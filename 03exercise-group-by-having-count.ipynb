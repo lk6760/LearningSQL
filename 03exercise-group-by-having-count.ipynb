{
 "cells": [
  {
   "cell_type": "markdown",
   "id": "f5108158",
   "metadata": {
    "papermill": {
     "duration": 0.005291,
     "end_time": "2023-01-19T21:17:24.601537",
     "exception": false,
     "start_time": "2023-01-19T21:17:24.596246",
     "status": "completed"
    },
    "tags": []
   },
   "source": [
    "**This notebook is an exercise in the [SQL](https://www.kaggle.com/learn/intro-to-sql) course.  You can reference the tutorial at [this link](https://www.kaggle.com/dansbecker/group-by-having-count).**\n",
    "\n",
    "---\n"
   ]
  },
  {
   "cell_type": "markdown",
   "id": "102adca7",
   "metadata": {
    "papermill": {
     "duration": 0.003588,
     "end_time": "2023-01-19T21:17:24.609276",
     "exception": false,
     "start_time": "2023-01-19T21:17:24.605688",
     "status": "completed"
    },
    "tags": []
   },
   "source": [
    "# Introduction\n",
    "\n",
    "Queries with **GROUP BY** can be powerful. There are many small things that can trip you up (like the order of the clauses), but it will start to feel natural once you've done it a few times. Here, you'll write queries using **GROUP BY** to answer questions from the Hacker News dataset.\n",
    "\n",
    "Before you get started, run the following cell to set everything up:"
   ]
  },
  {
   "cell_type": "code",
   "execution_count": 1,
   "id": "76fe0ca8",
   "metadata": {
    "execution": {
     "iopub.execute_input": "2023-01-19T21:17:24.619655Z",
     "iopub.status.busy": "2023-01-19T21:17:24.618472Z",
     "iopub.status.idle": "2023-01-19T21:17:26.371308Z",
     "shell.execute_reply": "2023-01-19T21:17:26.369861Z"
    },
    "papermill": {
     "duration": 1.760999,
     "end_time": "2023-01-19T21:17:26.374125",
     "exception": false,
     "start_time": "2023-01-19T21:17:24.613126",
     "status": "completed"
    },
    "tags": []
   },
   "outputs": [
    {
     "name": "stdout",
     "output_type": "stream",
     "text": [
      "Using Kaggle's public dataset BigQuery integration.\n"
     ]
    },
    {
     "name": "stderr",
     "output_type": "stream",
     "text": [
      "/opt/conda/lib/python3.7/site-packages/google/cloud/bigquery/client.py:440: UserWarning: Cannot create BigQuery Storage client, the dependency google-cloud-bigquery-storage is not installed.\n",
      "  \"Cannot create BigQuery Storage client, the dependency \"\n"
     ]
    },
    {
     "name": "stdout",
     "output_type": "stream",
     "text": [
      "Setup Complete\n"
     ]
    }
   ],
   "source": [
    "# Set up feedback system\n",
    "from learntools.core import binder\n",
    "binder.bind(globals())\n",
    "from learntools.sql.ex3 import *\n",
    "print(\"Setup Complete\")"
   ]
  },
  {
   "cell_type": "markdown",
   "id": "209ef942",
   "metadata": {
    "papermill": {
     "duration": 0.003818,
     "end_time": "2023-01-19T21:17:26.382228",
     "exception": false,
     "start_time": "2023-01-19T21:17:26.378410",
     "status": "completed"
    },
    "tags": []
   },
   "source": [
    "The code cell below fetches the `comments` table from the `hacker_news` dataset.  We also preview the first five rows of the table."
   ]
  },
  {
   "cell_type": "code",
   "execution_count": 2,
   "id": "435c332f",
   "metadata": {
    "execution": {
     "iopub.execute_input": "2023-01-19T21:17:26.392805Z",
     "iopub.status.busy": "2023-01-19T21:17:26.392150Z",
     "iopub.status.idle": "2023-01-19T21:17:27.291865Z",
     "shell.execute_reply": "2023-01-19T21:17:27.290520Z"
    },
    "papermill": {
     "duration": 0.908144,
     "end_time": "2023-01-19T21:17:27.294505",
     "exception": false,
     "start_time": "2023-01-19T21:17:26.386361",
     "status": "completed"
    },
    "tags": []
   },
   "outputs": [
    {
     "name": "stdout",
     "output_type": "stream",
     "text": [
      "Using Kaggle's public dataset BigQuery integration.\n"
     ]
    },
    {
     "name": "stderr",
     "output_type": "stream",
     "text": [
      "/opt/conda/lib/python3.7/site-packages/ipykernel_launcher.py:19: UserWarning: Cannot use bqstorage_client if max_results is set, reverting to fetching data with the tabledata.list endpoint.\n"
     ]
    },
    {
     "data": {
      "text/html": [
       "<div>\n",
       "<style scoped>\n",
       "    .dataframe tbody tr th:only-of-type {\n",
       "        vertical-align: middle;\n",
       "    }\n",
       "\n",
       "    .dataframe tbody tr th {\n",
       "        vertical-align: top;\n",
       "    }\n",
       "\n",
       "    .dataframe thead th {\n",
       "        text-align: right;\n",
       "    }\n",
       "</style>\n",
       "<table border=\"1\" class=\"dataframe\">\n",
       "  <thead>\n",
       "    <tr style=\"text-align: right;\">\n",
       "      <th></th>\n",
       "      <th>id</th>\n",
       "      <th>by</th>\n",
       "      <th>author</th>\n",
       "      <th>time</th>\n",
       "      <th>time_ts</th>\n",
       "      <th>text</th>\n",
       "      <th>parent</th>\n",
       "      <th>deleted</th>\n",
       "      <th>dead</th>\n",
       "      <th>ranking</th>\n",
       "    </tr>\n",
       "  </thead>\n",
       "  <tbody>\n",
       "    <tr>\n",
       "      <th>0</th>\n",
       "      <td>9734136</td>\n",
       "      <td>None</td>\n",
       "      <td>None</td>\n",
       "      <td>1434565400</td>\n",
       "      <td>2015-06-17 18:23:20+00:00</td>\n",
       "      <td>None</td>\n",
       "      <td>9733698</td>\n",
       "      <td>True</td>\n",
       "      <td>None</td>\n",
       "      <td>0</td>\n",
       "    </tr>\n",
       "    <tr>\n",
       "      <th>1</th>\n",
       "      <td>4921158</td>\n",
       "      <td>None</td>\n",
       "      <td>None</td>\n",
       "      <td>1355496966</td>\n",
       "      <td>2012-12-14 14:56:06+00:00</td>\n",
       "      <td>None</td>\n",
       "      <td>4921100</td>\n",
       "      <td>True</td>\n",
       "      <td>None</td>\n",
       "      <td>0</td>\n",
       "    </tr>\n",
       "    <tr>\n",
       "      <th>2</th>\n",
       "      <td>7500568</td>\n",
       "      <td>None</td>\n",
       "      <td>None</td>\n",
       "      <td>1396261158</td>\n",
       "      <td>2014-03-31 10:19:18+00:00</td>\n",
       "      <td>None</td>\n",
       "      <td>7499385</td>\n",
       "      <td>True</td>\n",
       "      <td>None</td>\n",
       "      <td>0</td>\n",
       "    </tr>\n",
       "    <tr>\n",
       "      <th>3</th>\n",
       "      <td>8909635</td>\n",
       "      <td>None</td>\n",
       "      <td>None</td>\n",
       "      <td>1421627275</td>\n",
       "      <td>2015-01-19 00:27:55+00:00</td>\n",
       "      <td>None</td>\n",
       "      <td>8901135</td>\n",
       "      <td>True</td>\n",
       "      <td>None</td>\n",
       "      <td>0</td>\n",
       "    </tr>\n",
       "    <tr>\n",
       "      <th>4</th>\n",
       "      <td>9256463</td>\n",
       "      <td>None</td>\n",
       "      <td>None</td>\n",
       "      <td>1427204705</td>\n",
       "      <td>2015-03-24 13:45:05+00:00</td>\n",
       "      <td>None</td>\n",
       "      <td>9256346</td>\n",
       "      <td>True</td>\n",
       "      <td>None</td>\n",
       "      <td>0</td>\n",
       "    </tr>\n",
       "  </tbody>\n",
       "</table>\n",
       "</div>"
      ],
      "text/plain": [
       "        id    by author        time                   time_ts  text   parent  \\\n",
       "0  9734136  None   None  1434565400 2015-06-17 18:23:20+00:00  None  9733698   \n",
       "1  4921158  None   None  1355496966 2012-12-14 14:56:06+00:00  None  4921100   \n",
       "2  7500568  None   None  1396261158 2014-03-31 10:19:18+00:00  None  7499385   \n",
       "3  8909635  None   None  1421627275 2015-01-19 00:27:55+00:00  None  8901135   \n",
       "4  9256463  None   None  1427204705 2015-03-24 13:45:05+00:00  None  9256346   \n",
       "\n",
       "   deleted  dead  ranking  \n",
       "0     True  None        0  \n",
       "1     True  None        0  \n",
       "2     True  None        0  \n",
       "3     True  None        0  \n",
       "4     True  None        0  "
      ]
     },
     "execution_count": 2,
     "metadata": {},
     "output_type": "execute_result"
    }
   ],
   "source": [
    "from google.cloud import bigquery\n",
    "\n",
    "# Create a \"Client\" object\n",
    "client = bigquery.Client()\n",
    "\n",
    "# Construct a reference to the \"hacker_news\" dataset\n",
    "dataset_ref = client.dataset(\"hacker_news\", project=\"bigquery-public-data\")\n",
    "\n",
    "# API request - fetch the dataset\n",
    "dataset = client.get_dataset(dataset_ref)\n",
    "\n",
    "# Construct a reference to the \"comments\" table\n",
    "table_ref = dataset_ref.table(\"comments\")\n",
    "\n",
    "# API request - fetch the table\n",
    "table = client.get_table(table_ref)\n",
    "\n",
    "# Preview the first five lines of the \"comments\" table\n",
    "client.list_rows(table, max_results=5).to_dataframe()"
   ]
  },
  {
   "cell_type": "markdown",
   "id": "b7aafb79",
   "metadata": {
    "papermill": {
     "duration": 0.004193,
     "end_time": "2023-01-19T21:17:27.303714",
     "exception": false,
     "start_time": "2023-01-19T21:17:27.299521",
     "status": "completed"
    },
    "tags": []
   },
   "source": [
    "# Exercises\n",
    "\n",
    "### 1) Prolific commenters\n",
    "\n",
    "Hacker News would like to send awards to everyone who has written more than 10,000 posts. Write a query that returns all authors with more than 10,000 posts as well as their post counts. Call the column with post counts `NumPosts`.\n",
    "\n",
    "In case sample query is helpful, here is a query you saw in the tutorial to answer a similar question:\n",
    "```\n",
    "query = \"\"\"\n",
    "        SELECT parent, COUNT(1) AS NumPosts\n",
    "        FROM `bigquery-public-data.hacker_news.comments`\n",
    "        GROUP BY parent\n",
    "        HAVING COUNT(1) > 10\n",
    "        \"\"\"\n",
    "```"
   ]
  },
  {
   "cell_type": "code",
   "execution_count": 3,
   "id": "0451caad",
   "metadata": {
    "execution": {
     "iopub.execute_input": "2023-01-19T21:17:27.314381Z",
     "iopub.status.busy": "2023-01-19T21:17:27.313994Z",
     "iopub.status.idle": "2023-01-19T21:17:28.131296Z",
     "shell.execute_reply": "2023-01-19T21:17:28.129949Z"
    },
    "papermill": {
     "duration": 0.825753,
     "end_time": "2023-01-19T21:17:28.133809",
     "exception": false,
     "start_time": "2023-01-19T21:17:27.308056",
     "status": "completed"
    },
    "tags": []
   },
   "outputs": [
    {
     "name": "stderr",
     "output_type": "stream",
     "text": [
      "/opt/conda/lib/python3.7/site-packages/google/cloud/bigquery/client.py:440: UserWarning: Cannot create BigQuery Storage client, the dependency google-cloud-bigquery-storage is not installed.\n",
      "  \"Cannot create BigQuery Storage client, the dependency \"\n"
     ]
    },
    {
     "name": "stdout",
     "output_type": "stream",
     "text": [
      "       author  NumPosts\n",
      "0        None    227736\n",
      "1     tptacek     33839\n",
      "2   anigbrowl     11395\n",
      "3  stcredzero     10092\n",
      "4    jrockway     13626\n"
     ]
    },
    {
     "data": {
      "application/javascript": [
       "parent.postMessage({\"jupyterEvent\": \"custom.exercise_interaction\", \"data\": {\"outcomeType\": 1, \"valueTowardsCompletion\": 0.5, \"interactionType\": 1, \"questionType\": 2, \"questionId\": \"1_ProlificCommenters\", \"learnToolsVersion\": \"0.3.4\", \"failureMessage\": \"\", \"exceptionClass\": \"\", \"trace\": \"\"}}, \"*\")"
      ],
      "text/plain": [
       "<IPython.core.display.Javascript object>"
      ]
     },
     "metadata": {},
     "output_type": "display_data"
    },
    {
     "data": {
      "text/markdown": [
       "<span style=\"color:#33cc33\">Correct</span>"
      ],
      "text/plain": [
       "Correct"
      ]
     },
     "metadata": {},
     "output_type": "display_data"
    }
   ],
   "source": [
    "# Query to select prolific commenters and post counts\n",
    "prolific_commenters_query = \"\"\"\n",
    "                            SELECT author, COUNT(1) as NumPosts\n",
    "                            FROM `bigquery-public-data.hacker_news.comments`\n",
    "                            GROUP BY author\n",
    "                            HAVING COUNT(1) > 10000\n",
    "                            \"\"\" # Your code goes here\n",
    "\n",
    "# Set up the query (cancel the query if it would use too much of \n",
    "# your quota, with the limit set to 1 GB)\n",
    "safe_config = bigquery.QueryJobConfig(maximum_bytes_billed=10**10)\n",
    "query_job = client.query(prolific_commenters_query, job_config=safe_config)\n",
    "\n",
    "# API request - run the query, and return a pandas DataFrame\n",
    "prolific_commenters = query_job.to_dataframe()\n",
    "\n",
    "# View top few rows of results\n",
    "print(prolific_commenters.head())\n",
    "\n",
    "# Check your answer\n",
    "q_1.check()"
   ]
  },
  {
   "cell_type": "markdown",
   "id": "40a8c934",
   "metadata": {
    "papermill": {
     "duration": 0.004531,
     "end_time": "2023-01-19T21:17:28.143253",
     "exception": false,
     "start_time": "2023-01-19T21:17:28.138722",
     "status": "completed"
    },
    "tags": []
   },
   "source": [
    "For the solution, uncomment the line below."
   ]
  },
  {
   "cell_type": "code",
   "execution_count": 4,
   "id": "28ca1092",
   "metadata": {
    "execution": {
     "iopub.execute_input": "2023-01-19T21:17:28.155099Z",
     "iopub.status.busy": "2023-01-19T21:17:28.154671Z",
     "iopub.status.idle": "2023-01-19T21:17:28.160247Z",
     "shell.execute_reply": "2023-01-19T21:17:28.158919Z"
    },
    "papermill": {
     "duration": 0.014495,
     "end_time": "2023-01-19T21:17:28.162597",
     "exception": false,
     "start_time": "2023-01-19T21:17:28.148102",
     "status": "completed"
    },
    "tags": []
   },
   "outputs": [],
   "source": [
    "#q_1.solution()"
   ]
  },
  {
   "cell_type": "markdown",
   "id": "cabd5ff4",
   "metadata": {
    "papermill": {
     "duration": 0.004899,
     "end_time": "2023-01-19T21:17:28.172444",
     "exception": false,
     "start_time": "2023-01-19T21:17:28.167545",
     "status": "completed"
    },
    "tags": []
   },
   "source": [
    "### 2) Deleted comments\n",
    "\n",
    "How many comments have been deleted? (If a comment was deleted, the `deleted` column in the comments table will have the value `True`.)"
   ]
  },
  {
   "cell_type": "code",
   "execution_count": 5,
   "id": "c7e5395f",
   "metadata": {
    "execution": {
     "iopub.execute_input": "2023-01-19T21:17:28.184774Z",
     "iopub.status.busy": "2023-01-19T21:17:28.183949Z",
     "iopub.status.idle": "2023-01-19T21:17:28.954427Z",
     "shell.execute_reply": "2023-01-19T21:17:28.953130Z"
    },
    "papermill": {
     "duration": 0.779532,
     "end_time": "2023-01-19T21:17:28.957019",
     "exception": false,
     "start_time": "2023-01-19T21:17:28.177487",
     "status": "completed"
    },
    "tags": []
   },
   "outputs": [
    {
     "name": "stderr",
     "output_type": "stream",
     "text": [
      "/opt/conda/lib/python3.7/site-packages/google/cloud/bigquery/client.py:440: UserWarning: Cannot create BigQuery Storage client, the dependency google-cloud-bigquery-storage is not installed.\n",
      "  \"Cannot create BigQuery Storage client, the dependency \"\n"
     ]
    },
    {
     "name": "stdout",
     "output_type": "stream",
     "text": [
      "  deleted      f0_\n",
      "0    True   227736\n",
      "1    None  8171681\n"
     ]
    }
   ],
   "source": [
    "# Write your query here and figure out the answer\n",
    "deleted_comments_query = \"\"\"\n",
    "                         SELECT deleted, COUNT(1)\n",
    "                         FROM `bigquery-public-data.hacker_news.comments`\n",
    "                         GROUP BY deleted\n",
    "                         \"\"\"\n",
    "\n",
    "query_job = client.query(deleted_comments_query, job_config=safe_config)\n",
    "\n",
    "deleted_comments = query_job.to_dataframe()\n",
    "\n",
    "print(deleted_comments.head())"
   ]
  },
  {
   "cell_type": "code",
   "execution_count": 6,
   "id": "ffe4960c",
   "metadata": {
    "execution": {
     "iopub.execute_input": "2023-01-19T21:17:28.970597Z",
     "iopub.status.busy": "2023-01-19T21:17:28.969813Z",
     "iopub.status.idle": "2023-01-19T21:17:28.979061Z",
     "shell.execute_reply": "2023-01-19T21:17:28.977935Z"
    },
    "papermill": {
     "duration": 0.018592,
     "end_time": "2023-01-19T21:17:28.981454",
     "exception": false,
     "start_time": "2023-01-19T21:17:28.962862",
     "status": "completed"
    },
    "tags": []
   },
   "outputs": [
    {
     "data": {
      "application/javascript": [
       "parent.postMessage({\"jupyterEvent\": \"custom.exercise_interaction\", \"data\": {\"outcomeType\": 1, \"valueTowardsCompletion\": 0.5, \"interactionType\": 1, \"questionType\": 1, \"questionId\": \"2_NumDeletedPosts\", \"learnToolsVersion\": \"0.3.4\", \"failureMessage\": \"\", \"exceptionClass\": \"\", \"trace\": \"\"}}, \"*\")"
      ],
      "text/plain": [
       "<IPython.core.display.Javascript object>"
      ]
     },
     "metadata": {},
     "output_type": "display_data"
    },
    {
     "data": {
      "text/markdown": [
       "<span style=\"color:#33cc33\">Correct</span>"
      ],
      "text/plain": [
       "Correct"
      ]
     },
     "metadata": {},
     "output_type": "display_data"
    }
   ],
   "source": [
    "num_deleted_posts = 227736 # Put your answer here\n",
    "\n",
    "# Check your answer\n",
    "q_2.check()"
   ]
  },
  {
   "cell_type": "markdown",
   "id": "ad7ea03f",
   "metadata": {
    "papermill": {
     "duration": 0.005428,
     "end_time": "2023-01-19T21:17:28.992818",
     "exception": false,
     "start_time": "2023-01-19T21:17:28.987390",
     "status": "completed"
    },
    "tags": []
   },
   "source": [
    "For the solution, uncomment the line below."
   ]
  },
  {
   "cell_type": "code",
   "execution_count": 7,
   "id": "79c73108",
   "metadata": {
    "execution": {
     "iopub.execute_input": "2023-01-19T21:17:29.005772Z",
     "iopub.status.busy": "2023-01-19T21:17:29.005349Z",
     "iopub.status.idle": "2023-01-19T21:17:29.010173Z",
     "shell.execute_reply": "2023-01-19T21:17:29.008684Z"
    },
    "papermill": {
     "duration": 0.014621,
     "end_time": "2023-01-19T21:17:29.012853",
     "exception": false,
     "start_time": "2023-01-19T21:17:28.998232",
     "status": "completed"
    },
    "tags": []
   },
   "outputs": [],
   "source": [
    "#q_2.solution()"
   ]
  },
  {
   "cell_type": "markdown",
   "id": "e25d9c53",
   "metadata": {
    "papermill": {
     "duration": 0.005107,
     "end_time": "2023-01-19T21:17:29.023535",
     "exception": false,
     "start_time": "2023-01-19T21:17:29.018428",
     "status": "completed"
    },
    "tags": []
   },
   "source": [
    "# Keep Going\n",
    "**[Click here](https://www.kaggle.com/dansbecker/order-by)** to move on and learn about the **ORDER BY** clause."
   ]
  },
  {
   "cell_type": "markdown",
   "id": "1ca66fa7",
   "metadata": {
    "papermill": {
     "duration": 0.005024,
     "end_time": "2023-01-19T21:17:29.035009",
     "exception": false,
     "start_time": "2023-01-19T21:17:29.029985",
     "status": "completed"
    },
    "tags": []
   },
   "source": [
    "---\n",
    "\n",
    "\n",
    "\n",
    "\n",
    "*Have questions or comments? Visit the [course discussion forum](https://www.kaggle.com/learn/intro-to-sql/discussion) to chat with other learners.*"
   ]
  }
 ],
 "metadata": {
  "kernelspec": {
   "display_name": "Python 3",
   "language": "python",
   "name": "python3"
  },
  "language_info": {
   "codemirror_mode": {
    "name": "ipython",
    "version": 3
   },
   "file_extension": ".py",
   "mimetype": "text/x-python",
   "name": "python",
   "nbconvert_exporter": "python",
   "pygments_lexer": "ipython3",
   "version": "3.7.12"
  },
  "papermill": {
   "default_parameters": {},
   "duration": 14.152835,
   "end_time": "2023-01-19T21:17:29.763213",
   "environment_variables": {},
   "exception": null,
   "input_path": "__notebook__.ipynb",
   "output_path": "__notebook__.ipynb",
   "parameters": {},
   "start_time": "2023-01-19T21:17:15.610378",
   "version": "2.3.4"
  }
 },
 "nbformat": 4,
 "nbformat_minor": 5
}
