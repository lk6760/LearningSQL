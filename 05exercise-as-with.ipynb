{
 "cells": [
  {
   "cell_type": "markdown",
   "id": "024b732d",
   "metadata": {
    "papermill": {
     "duration": 0.008419,
     "end_time": "2023-01-21T00:19:36.126133",
     "exception": false,
     "start_time": "2023-01-21T00:19:36.117714",
     "status": "completed"
    },
    "tags": []
   },
   "source": [
    "**This notebook is an exercise in the [SQL](https://www.kaggle.com/learn/intro-to-sql) course.  You can reference the tutorial at [this link](https://www.kaggle.com/dansbecker/as-with).**\n",
    "\n",
    "---\n"
   ]
  },
  {
   "cell_type": "markdown",
   "id": "2e490cd9",
   "metadata": {
    "papermill": {
     "duration": 0.006402,
     "end_time": "2023-01-21T00:19:36.139421",
     "exception": false,
     "start_time": "2023-01-21T00:19:36.133019",
     "status": "completed"
    },
    "tags": []
   },
   "source": [
    "# Introduction\n",
    "\n",
    "You are getting to the point where you can own an analysis from beginning to end. So you'll do more data exploration in this exercise than you've done before.  Before you get started, run the following set-up code as usual. "
   ]
  },
  {
   "cell_type": "code",
   "execution_count": 1,
   "id": "9b7c4c21",
   "metadata": {
    "execution": {
     "iopub.execute_input": "2023-01-21T00:19:36.154320Z",
     "iopub.status.busy": "2023-01-21T00:19:36.153675Z",
     "iopub.status.idle": "2023-01-21T00:19:39.414418Z",
     "shell.execute_reply": "2023-01-21T00:19:39.413230Z"
    },
    "papermill": {
     "duration": 3.271941,
     "end_time": "2023-01-21T00:19:39.417816",
     "exception": false,
     "start_time": "2023-01-21T00:19:36.145875",
     "status": "completed"
    },
    "tags": []
   },
   "outputs": [
    {
     "name": "stdout",
     "output_type": "stream",
     "text": [
      "Using Kaggle's public dataset BigQuery integration.\n"
     ]
    },
    {
     "name": "stderr",
     "output_type": "stream",
     "text": [
      "/opt/conda/lib/python3.7/site-packages/google/cloud/bigquery/client.py:440: UserWarning: Cannot create BigQuery Storage client, the dependency google-cloud-bigquery-storage is not installed.\n",
      "  \"Cannot create BigQuery Storage client, the dependency \"\n"
     ]
    },
    {
     "name": "stdout",
     "output_type": "stream",
     "text": [
      "Setup Complete\n"
     ]
    }
   ],
   "source": [
    "# Set up feedback system\n",
    "from learntools.core import binder\n",
    "binder.bind(globals())\n",
    "from learntools.sql.ex5 import *\n",
    "print(\"Setup Complete\")"
   ]
  },
  {
   "cell_type": "markdown",
   "id": "eba9136f",
   "metadata": {
    "papermill": {
     "duration": 0.006188,
     "end_time": "2023-01-21T00:19:39.431374",
     "exception": false,
     "start_time": "2023-01-21T00:19:39.425186",
     "status": "completed"
    },
    "tags": []
   },
   "source": [
    "You'll work with a dataset about taxi trips in the city of Chicago. Run the cell below to fetch the `chicago_taxi_trips` dataset."
   ]
  },
  {
   "cell_type": "code",
   "execution_count": 2,
   "id": "29ddb53f",
   "metadata": {
    "execution": {
     "iopub.execute_input": "2023-01-21T00:19:39.445553Z",
     "iopub.status.busy": "2023-01-21T00:19:39.445171Z",
     "iopub.status.idle": "2023-01-21T00:19:39.768486Z",
     "shell.execute_reply": "2023-01-21T00:19:39.767399Z"
    },
    "papermill": {
     "duration": 0.333484,
     "end_time": "2023-01-21T00:19:39.771125",
     "exception": false,
     "start_time": "2023-01-21T00:19:39.437641",
     "status": "completed"
    },
    "tags": []
   },
   "outputs": [
    {
     "name": "stdout",
     "output_type": "stream",
     "text": [
      "Using Kaggle's public dataset BigQuery integration.\n"
     ]
    }
   ],
   "source": [
    "from google.cloud import bigquery\n",
    "\n",
    "# Create a \"Client\" object\n",
    "client = bigquery.Client()\n",
    "\n",
    "# Construct a reference to the \"chicago_taxi_trips\" dataset\n",
    "dataset_ref = client.dataset(\"chicago_taxi_trips\", project=\"bigquery-public-data\")\n",
    "\n",
    "# API request - fetch the dataset\n",
    "dataset = client.get_dataset(dataset_ref)"
   ]
  },
  {
   "cell_type": "markdown",
   "id": "1b647d90",
   "metadata": {
    "papermill": {
     "duration": 0.006211,
     "end_time": "2023-01-21T00:19:39.783786",
     "exception": false,
     "start_time": "2023-01-21T00:19:39.777575",
     "status": "completed"
    },
    "tags": []
   },
   "source": [
    "# Exercises\n",
    "\n",
    "You are curious how much slower traffic moves when traffic volume is high. This involves a few steps.\n",
    "\n",
    "### 1) Find the data\n",
    "Before you can access the data, you need to find the table name with the data.\n",
    "\n",
    "*Hint*: Tab completion is helpful whenever you can't remember a command. Type `client.` and then hit the tab key. Don't forget the period before hitting tab."
   ]
  },
  {
   "cell_type": "code",
   "execution_count": 3,
   "id": "227481bb",
   "metadata": {
    "execution": {
     "iopub.execute_input": "2023-01-21T00:19:39.798620Z",
     "iopub.status.busy": "2023-01-21T00:19:39.798209Z",
     "iopub.status.idle": "2023-01-21T00:19:40.051861Z",
     "shell.execute_reply": "2023-01-21T00:19:40.050281Z"
    },
    "papermill": {
     "duration": 0.264215,
     "end_time": "2023-01-21T00:19:40.054483",
     "exception": false,
     "start_time": "2023-01-21T00:19:39.790268",
     "status": "completed"
    },
    "tags": []
   },
   "outputs": [
    {
     "name": "stdout",
     "output_type": "stream",
     "text": [
      "['taxi_trips']\n"
     ]
    }
   ],
   "source": [
    "table_names = list(client.list_tables(dataset))\n",
    "print([table_name.table_id for table_name in table_names])"
   ]
  },
  {
   "cell_type": "code",
   "execution_count": 4,
   "id": "d525cf9e",
   "metadata": {
    "execution": {
     "iopub.execute_input": "2023-01-21T00:19:40.071631Z",
     "iopub.status.busy": "2023-01-21T00:19:40.071225Z",
     "iopub.status.idle": "2023-01-21T00:19:40.082769Z",
     "shell.execute_reply": "2023-01-21T00:19:40.081465Z"
    },
    "papermill": {
     "duration": 0.024024,
     "end_time": "2023-01-21T00:19:40.085233",
     "exception": false,
     "start_time": "2023-01-21T00:19:40.061209",
     "status": "completed"
    },
    "tags": []
   },
   "outputs": [
    {
     "data": {
      "application/javascript": [
       "parent.postMessage({\"jupyterEvent\": \"custom.exercise_interaction\", \"data\": {\"outcomeType\": 1, \"valueTowardsCompletion\": 0.16666666666666666, \"interactionType\": 1, \"questionType\": 1, \"questionId\": \"1_GetTableName\", \"learnToolsVersion\": \"0.3.4\", \"failureMessage\": \"\", \"exceptionClass\": \"\", \"trace\": \"\"}}, \"*\")"
      ],
      "text/plain": [
       "<IPython.core.display.Javascript object>"
      ]
     },
     "metadata": {},
     "output_type": "display_data"
    },
    {
     "data": {
      "text/markdown": [
       "<span style=\"color:#33cc33\">Correct</span>"
      ],
      "text/plain": [
       "Correct"
      ]
     },
     "metadata": {},
     "output_type": "display_data"
    }
   ],
   "source": [
    "# Write the table name as a string below\n",
    "table_name = \"taxi_trips\"\n",
    "\n",
    "# Check your answer\n",
    "q_1.check()"
   ]
  },
  {
   "cell_type": "markdown",
   "id": "2309394d",
   "metadata": {
    "papermill": {
     "duration": 0.00658,
     "end_time": "2023-01-21T00:19:40.098611",
     "exception": false,
     "start_time": "2023-01-21T00:19:40.092031",
     "status": "completed"
    },
    "tags": []
   },
   "source": [
    "For the solution, uncomment the line below."
   ]
  },
  {
   "cell_type": "code",
   "execution_count": 5,
   "id": "be773c61",
   "metadata": {
    "execution": {
     "iopub.execute_input": "2023-01-21T00:19:40.114597Z",
     "iopub.status.busy": "2023-01-21T00:19:40.114201Z",
     "iopub.status.idle": "2023-01-21T00:19:40.118760Z",
     "shell.execute_reply": "2023-01-21T00:19:40.117640Z"
    },
    "papermill": {
     "duration": 0.015276,
     "end_time": "2023-01-21T00:19:40.120992",
     "exception": false,
     "start_time": "2023-01-21T00:19:40.105716",
     "status": "completed"
    },
    "tags": []
   },
   "outputs": [],
   "source": [
    "#q_1.solution()"
   ]
  },
  {
   "cell_type": "markdown",
   "id": "a0f12c39",
   "metadata": {
    "papermill": {
     "duration": 0.006559,
     "end_time": "2023-01-21T00:19:40.134258",
     "exception": false,
     "start_time": "2023-01-21T00:19:40.127699",
     "status": "completed"
    },
    "tags": []
   },
   "source": [
    "### 2) Peek at the data\n",
    "\n",
    "Use the next code cell to peek at the top few rows of the data. Inspect the data and see if any issues with data quality are immediately obvious. "
   ]
  },
  {
   "cell_type": "code",
   "execution_count": 6,
   "id": "40c1d2ca",
   "metadata": {
    "execution": {
     "iopub.execute_input": "2023-01-21T00:19:40.149405Z",
     "iopub.status.busy": "2023-01-21T00:19:40.149021Z",
     "iopub.status.idle": "2023-01-21T00:19:41.086132Z",
     "shell.execute_reply": "2023-01-21T00:19:41.085272Z"
    },
    "papermill": {
     "duration": 0.947327,
     "end_time": "2023-01-21T00:19:41.088246",
     "exception": false,
     "start_time": "2023-01-21T00:19:40.140919",
     "status": "completed"
    },
    "tags": []
   },
   "outputs": [
    {
     "name": "stderr",
     "output_type": "stream",
     "text": [
      "/opt/conda/lib/python3.7/site-packages/ipykernel_launcher.py:4: UserWarning: Cannot use bqstorage_client if max_results is set, reverting to fetching data with the tabledata.list endpoint.\n",
      "  after removing the cwd from sys.path.\n"
     ]
    },
    {
     "data": {
      "text/html": [
       "<div>\n",
       "<style scoped>\n",
       "    .dataframe tbody tr th:only-of-type {\n",
       "        vertical-align: middle;\n",
       "    }\n",
       "\n",
       "    .dataframe tbody tr th {\n",
       "        vertical-align: top;\n",
       "    }\n",
       "\n",
       "    .dataframe thead th {\n",
       "        text-align: right;\n",
       "    }\n",
       "</style>\n",
       "<table border=\"1\" class=\"dataframe\">\n",
       "  <thead>\n",
       "    <tr style=\"text-align: right;\">\n",
       "      <th></th>\n",
       "      <th>unique_key</th>\n",
       "      <th>taxi_id</th>\n",
       "      <th>trip_start_timestamp</th>\n",
       "      <th>trip_end_timestamp</th>\n",
       "      <th>trip_seconds</th>\n",
       "      <th>trip_miles</th>\n",
       "      <th>pickup_census_tract</th>\n",
       "      <th>dropoff_census_tract</th>\n",
       "      <th>pickup_community_area</th>\n",
       "      <th>dropoff_community_area</th>\n",
       "      <th>...</th>\n",
       "      <th>extras</th>\n",
       "      <th>trip_total</th>\n",
       "      <th>payment_type</th>\n",
       "      <th>company</th>\n",
       "      <th>pickup_latitude</th>\n",
       "      <th>pickup_longitude</th>\n",
       "      <th>pickup_location</th>\n",
       "      <th>dropoff_latitude</th>\n",
       "      <th>dropoff_longitude</th>\n",
       "      <th>dropoff_location</th>\n",
       "    </tr>\n",
       "  </thead>\n",
       "  <tbody>\n",
       "    <tr>\n",
       "      <th>0</th>\n",
       "      <td>c5679468c130f5a58c1c44c8df9f579d513ef940</td>\n",
       "      <td>bfb5c2ad40103c9891e7ee4713e93ccd75e741099b7498...</td>\n",
       "      <td>2014-05-02 18:00:00+00:00</td>\n",
       "      <td>2014-05-02 18:15:00+00:00</td>\n",
       "      <td>540</td>\n",
       "      <td>1.0</td>\n",
       "      <td>NaN</td>\n",
       "      <td>NaN</td>\n",
       "      <td>NaN</td>\n",
       "      <td>NaN</td>\n",
       "      <td>...</td>\n",
       "      <td>0.0</td>\n",
       "      <td>6.45</td>\n",
       "      <td>Cash</td>\n",
       "      <td>None</td>\n",
       "      <td>NaN</td>\n",
       "      <td>NaN</td>\n",
       "      <td>None</td>\n",
       "      <td>NaN</td>\n",
       "      <td>NaN</td>\n",
       "      <td>None</td>\n",
       "    </tr>\n",
       "    <tr>\n",
       "      <th>1</th>\n",
       "      <td>ed6013f98c80cad1b1d21f4c5692b28478e8f68d</td>\n",
       "      <td>a8078f80a679e11f94f21e3bc8e205025db5e17d1f204c...</td>\n",
       "      <td>2019-04-18 13:45:00+00:00</td>\n",
       "      <td>2019-04-18 14:00:00+00:00</td>\n",
       "      <td>180</td>\n",
       "      <td>0.4</td>\n",
       "      <td>NaN</td>\n",
       "      <td>NaN</td>\n",
       "      <td>NaN</td>\n",
       "      <td>NaN</td>\n",
       "      <td>...</td>\n",
       "      <td>1.0</td>\n",
       "      <td>5.50</td>\n",
       "      <td>Cash</td>\n",
       "      <td>Taxicab Insurance Agency, LLC</td>\n",
       "      <td>NaN</td>\n",
       "      <td>NaN</td>\n",
       "      <td>None</td>\n",
       "      <td>NaN</td>\n",
       "      <td>NaN</td>\n",
       "      <td>None</td>\n",
       "    </tr>\n",
       "    <tr>\n",
       "      <th>2</th>\n",
       "      <td>0677e4eaabc0a7000cf18999ea5c9af722ab1fea</td>\n",
       "      <td>be2af1b95b937dfe54bf9a4f4331745a673529a7edfab2...</td>\n",
       "      <td>2019-04-19 02:30:00+00:00</td>\n",
       "      <td>2019-04-19 03:00:00+00:00</td>\n",
       "      <td>1860</td>\n",
       "      <td>0.8</td>\n",
       "      <td>NaN</td>\n",
       "      <td>NaN</td>\n",
       "      <td>NaN</td>\n",
       "      <td>76.0</td>\n",
       "      <td>...</td>\n",
       "      <td>0.0</td>\n",
       "      <td>39.25</td>\n",
       "      <td>Cash</td>\n",
       "      <td>Taxi Affiliation Services</td>\n",
       "      <td>NaN</td>\n",
       "      <td>NaN</td>\n",
       "      <td>None</td>\n",
       "      <td>41.980264</td>\n",
       "      <td>-87.913625</td>\n",
       "      <td>POINT (-87.913624596 41.9802643146)</td>\n",
       "    </tr>\n",
       "    <tr>\n",
       "      <th>3</th>\n",
       "      <td>a6c433b8961bd9d13a2273440d64df330196aa62</td>\n",
       "      <td>4fdfda1ef9a53850fc350d2834bfd9086e4a622f5e06cd...</td>\n",
       "      <td>2014-06-11 23:30:00+00:00</td>\n",
       "      <td>2014-06-12 00:00:00+00:00</td>\n",
       "      <td>1500</td>\n",
       "      <td>9.0</td>\n",
       "      <td>NaN</td>\n",
       "      <td>NaN</td>\n",
       "      <td>NaN</td>\n",
       "      <td>NaN</td>\n",
       "      <td>...</td>\n",
       "      <td>0.0</td>\n",
       "      <td>24.90</td>\n",
       "      <td>Credit Card</td>\n",
       "      <td>None</td>\n",
       "      <td>NaN</td>\n",
       "      <td>NaN</td>\n",
       "      <td>None</td>\n",
       "      <td>NaN</td>\n",
       "      <td>NaN</td>\n",
       "      <td>None</td>\n",
       "    </tr>\n",
       "    <tr>\n",
       "      <th>4</th>\n",
       "      <td>226ba06675fb6c6527a0f0931b420bb6ba649a9e</td>\n",
       "      <td>45660b34deeab21b9a6db21b9b77b19eef90236c65683e...</td>\n",
       "      <td>2019-04-18 12:30:00+00:00</td>\n",
       "      <td>2019-04-18 12:30:00+00:00</td>\n",
       "      <td>360</td>\n",
       "      <td>0.7</td>\n",
       "      <td>NaN</td>\n",
       "      <td>NaN</td>\n",
       "      <td>NaN</td>\n",
       "      <td>NaN</td>\n",
       "      <td>...</td>\n",
       "      <td>0.0</td>\n",
       "      <td>6.25</td>\n",
       "      <td>Credit Card</td>\n",
       "      <td>Chicago Medallion Management</td>\n",
       "      <td>NaN</td>\n",
       "      <td>NaN</td>\n",
       "      <td>None</td>\n",
       "      <td>NaN</td>\n",
       "      <td>NaN</td>\n",
       "      <td>None</td>\n",
       "    </tr>\n",
       "  </tbody>\n",
       "</table>\n",
       "<p>5 rows × 23 columns</p>\n",
       "</div>"
      ],
      "text/plain": [
       "                                 unique_key  \\\n",
       "0  c5679468c130f5a58c1c44c8df9f579d513ef940   \n",
       "1  ed6013f98c80cad1b1d21f4c5692b28478e8f68d   \n",
       "2  0677e4eaabc0a7000cf18999ea5c9af722ab1fea   \n",
       "3  a6c433b8961bd9d13a2273440d64df330196aa62   \n",
       "4  226ba06675fb6c6527a0f0931b420bb6ba649a9e   \n",
       "\n",
       "                                             taxi_id  \\\n",
       "0  bfb5c2ad40103c9891e7ee4713e93ccd75e741099b7498...   \n",
       "1  a8078f80a679e11f94f21e3bc8e205025db5e17d1f204c...   \n",
       "2  be2af1b95b937dfe54bf9a4f4331745a673529a7edfab2...   \n",
       "3  4fdfda1ef9a53850fc350d2834bfd9086e4a622f5e06cd...   \n",
       "4  45660b34deeab21b9a6db21b9b77b19eef90236c65683e...   \n",
       "\n",
       "       trip_start_timestamp        trip_end_timestamp  trip_seconds  \\\n",
       "0 2014-05-02 18:00:00+00:00 2014-05-02 18:15:00+00:00           540   \n",
       "1 2019-04-18 13:45:00+00:00 2019-04-18 14:00:00+00:00           180   \n",
       "2 2019-04-19 02:30:00+00:00 2019-04-19 03:00:00+00:00          1860   \n",
       "3 2014-06-11 23:30:00+00:00 2014-06-12 00:00:00+00:00          1500   \n",
       "4 2019-04-18 12:30:00+00:00 2019-04-18 12:30:00+00:00           360   \n",
       "\n",
       "   trip_miles  pickup_census_tract  dropoff_census_tract  \\\n",
       "0         1.0                  NaN                   NaN   \n",
       "1         0.4                  NaN                   NaN   \n",
       "2         0.8                  NaN                   NaN   \n",
       "3         9.0                  NaN                   NaN   \n",
       "4         0.7                  NaN                   NaN   \n",
       "\n",
       "   pickup_community_area  dropoff_community_area  ...  extras  trip_total  \\\n",
       "0                    NaN                     NaN  ...     0.0        6.45   \n",
       "1                    NaN                     NaN  ...     1.0        5.50   \n",
       "2                    NaN                    76.0  ...     0.0       39.25   \n",
       "3                    NaN                     NaN  ...     0.0       24.90   \n",
       "4                    NaN                     NaN  ...     0.0        6.25   \n",
       "\n",
       "   payment_type                        company  pickup_latitude  \\\n",
       "0          Cash                           None              NaN   \n",
       "1          Cash  Taxicab Insurance Agency, LLC              NaN   \n",
       "2          Cash      Taxi Affiliation Services              NaN   \n",
       "3   Credit Card                           None              NaN   \n",
       "4   Credit Card   Chicago Medallion Management              NaN   \n",
       "\n",
       "  pickup_longitude pickup_location  dropoff_latitude  dropoff_longitude  \\\n",
       "0              NaN            None               NaN                NaN   \n",
       "1              NaN            None               NaN                NaN   \n",
       "2              NaN            None         41.980264         -87.913625   \n",
       "3              NaN            None               NaN                NaN   \n",
       "4              NaN            None               NaN                NaN   \n",
       "\n",
       "                      dropoff_location  \n",
       "0                                 None  \n",
       "1                                 None  \n",
       "2  POINT (-87.913624596 41.9802643146)  \n",
       "3                                 None  \n",
       "4                                 None  \n",
       "\n",
       "[5 rows x 23 columns]"
      ]
     },
     "execution_count": 6,
     "metadata": {},
     "output_type": "execute_result"
    }
   ],
   "source": [
    "# Your code here\n",
    "table_ref = dataset_ref.table(table_name)\n",
    "table = client.get_table(table_ref)\n",
    "client.list_rows(table, max_results=5).to_dataframe()"
   ]
  },
  {
   "cell_type": "markdown",
   "id": "19bc45fc",
   "metadata": {
    "papermill": {
     "duration": 0.006713,
     "end_time": "2023-01-21T00:19:41.102162",
     "exception": false,
     "start_time": "2023-01-21T00:19:41.095449",
     "status": "completed"
    },
    "tags": []
   },
   "source": [
    "After deciding whether you see any important issues, run the code cell below."
   ]
  },
  {
   "cell_type": "code",
   "execution_count": 7,
   "id": "4e388848",
   "metadata": {
    "execution": {
     "iopub.execute_input": "2023-01-21T00:19:41.118203Z",
     "iopub.status.busy": "2023-01-21T00:19:41.117360Z",
     "iopub.status.idle": "2023-01-21T00:19:41.126515Z",
     "shell.execute_reply": "2023-01-21T00:19:41.125489Z"
    },
    "papermill": {
     "duration": 0.019826,
     "end_time": "2023-01-21T00:19:41.128955",
     "exception": false,
     "start_time": "2023-01-21T00:19:41.109129",
     "status": "completed"
    },
    "tags": []
   },
   "outputs": [
    {
     "data": {
      "application/javascript": [
       "parent.postMessage({\"jupyterEvent\": \"custom.exercise_interaction\", \"data\": {\"interactionType\": 3, \"questionType\": 4, \"questionId\": \"2_WhatsWrongWithData\", \"learnToolsVersion\": \"0.3.4\", \"valueTowardsCompletion\": 0.0, \"failureMessage\": \"\", \"exceptionClass\": \"\", \"trace\": \"\", \"outcomeType\": 4}}, \"*\")"
      ],
      "text/plain": [
       "<IPython.core.display.Javascript object>"
      ]
     },
     "metadata": {},
     "output_type": "display_data"
    },
    {
     "data": {
      "text/markdown": [
       "<span style=\"color:#33cc99\">Solution:</span> \n",
       "You can see the data by calling: \n",
       "```python\n",
       "# Construct a reference to the \"taxi_trips\" table\n",
       "table_ref = dataset_ref.table(\"taxi_trips\")\n",
       "\n",
       "# API request - fetch the table\n",
       "table = client.get_table(table_ref)\n",
       "\n",
       "# Preview the first five lines of the \"taxi_trips\" table\n",
       "client.list_rows(table, max_results=5).to_dataframe()\n",
       "```\n",
       "\n",
       "Some trips in the top few rows have `trip_seconds` or `trip_miles` values of 0. \n",
       "Other location fields have values of `None`. That is a problem if we want to use those fields.\n"
      ],
      "text/plain": [
       "Solution: \n",
       "You can see the data by calling: \n",
       "```python\n",
       "# Construct a reference to the \"taxi_trips\" table\n",
       "table_ref = dataset_ref.table(\"taxi_trips\")\n",
       "\n",
       "# API request - fetch the table\n",
       "table = client.get_table(table_ref)\n",
       "\n",
       "# Preview the first five lines of the \"taxi_trips\" table\n",
       "client.list_rows(table, max_results=5).to_dataframe()\n",
       "```\n",
       "\n",
       "Some trips in the top few rows have `trip_seconds` or `trip_miles` values of 0. \n",
       "Other location fields have values of `None`. That is a problem if we want to use those fields."
      ]
     },
     "metadata": {},
     "output_type": "display_data"
    }
   ],
   "source": [
    "# Check your answer (Run this code cell to receive credit!)\n",
    "q_2.solution()"
   ]
  },
  {
   "cell_type": "markdown",
   "id": "9121c491",
   "metadata": {
    "papermill": {
     "duration": 0.007807,
     "end_time": "2023-01-21T00:19:41.144373",
     "exception": false,
     "start_time": "2023-01-21T00:19:41.136566",
     "status": "completed"
    },
    "tags": []
   },
   "source": [
    "### 3) Determine when this data is from\n",
    "\n",
    "If the data is sufficiently old, we might be careful before assuming the data is still relevant to traffic patterns today. Write a query that counts the number of trips in each year.  \n",
    "\n",
    "Your results should have two columns:\n",
    "- `year` - the year of the trips\n",
    "- `num_trips` - the number of trips in that year\n",
    "\n",
    "Hints:\n",
    "- When using **GROUP BY** and **ORDER BY**, you should refer to the columns by the alias `year` that you set at the top of the **SELECT** query.\n",
    "- The SQL code to **SELECT** the year from `trip_start_timestamp` is <code>SELECT EXTRACT(YEAR FROM trip_start_timestamp)</code>\n",
    "- The **FROM** field can be a little tricky until you are used to it.  The format is:\n",
    "    1. A backick (the symbol \\`).\n",
    "    2. The project name. In this case it is `bigquery-public-data`.\n",
    "    3. A period.\n",
    "    4. The dataset name. In this case, it is `chicago_taxi_trips`.\n",
    "    5. A period.\n",
    "    6. The table name. You used this as your answer in **1) Find the data**.\n",
    "    7. A backtick (the symbol \\`)."
   ]
  },
  {
   "cell_type": "code",
   "execution_count": 8,
   "id": "7e12da31",
   "metadata": {
    "execution": {
     "iopub.execute_input": "2023-01-21T00:19:41.160524Z",
     "iopub.status.busy": "2023-01-21T00:19:41.160147Z",
     "iopub.status.idle": "2023-01-21T00:19:42.240865Z",
     "shell.execute_reply": "2023-01-21T00:19:42.239427Z"
    },
    "papermill": {
     "duration": 1.091966,
     "end_time": "2023-01-21T00:19:42.243462",
     "exception": false,
     "start_time": "2023-01-21T00:19:41.151496",
     "status": "completed"
    },
    "tags": []
   },
   "outputs": [
    {
     "name": "stderr",
     "output_type": "stream",
     "text": [
      "/opt/conda/lib/python3.7/site-packages/google/cloud/bigquery/client.py:440: UserWarning: Cannot create BigQuery Storage client, the dependency google-cloud-bigquery-storage is not installed.\n",
      "  \"Cannot create BigQuery Storage client, the dependency \"\n"
     ]
    },
    {
     "name": "stdout",
     "output_type": "stream",
     "text": [
      "    year  num_trips\n",
      "0   2013   27217300\n",
      "1   2014   37395079\n",
      "2   2015   32385527\n",
      "3   2016   31756403\n",
      "4   2017   24979611\n",
      "5   2018   20731105\n",
      "6   2019   16476440\n",
      "7   2020    3888831\n",
      "8   2021    3947677\n",
      "9   2022    6369867\n",
      "10  2023         24\n"
     ]
    },
    {
     "data": {
      "application/javascript": [
       "parent.postMessage({\"jupyterEvent\": \"custom.exercise_interaction\", \"data\": {\"outcomeType\": 1, \"valueTowardsCompletion\": 0.16666666666666666, \"interactionType\": 1, \"questionType\": 2, \"questionId\": \"3_YearDistrib\", \"learnToolsVersion\": \"0.3.4\", \"failureMessage\": \"\", \"exceptionClass\": \"\", \"trace\": \"\"}}, \"*\")"
      ],
      "text/plain": [
       "<IPython.core.display.Javascript object>"
      ]
     },
     "metadata": {},
     "output_type": "display_data"
    },
    {
     "data": {
      "text/markdown": [
       "<span style=\"color:#33cc33\">Correct</span>"
      ],
      "text/plain": [
       "Correct"
      ]
     },
     "metadata": {},
     "output_type": "display_data"
    }
   ],
   "source": [
    "# Your code goes here\n",
    "rides_per_year_query = \"\"\"\n",
    "                       SELECT EXTRACT(YEAR FROM trip_start_timestamp) as year,\n",
    "                              count(1) as num_trips\n",
    "                       FROM `bigquery-public-data.chicago_taxi_trips.taxi_trips`\n",
    "                       GROUP BY year\n",
    "                       ORDER BY year\n",
    "                       \"\"\"\n",
    "\n",
    "# Set up the query (cancel the query if it would use too much of \n",
    "# your quota)\n",
    "safe_config = bigquery.QueryJobConfig(maximum_bytes_billed=10**10)\n",
    "rides_per_year_query_job = client.query(rides_per_year_query, job_config=safe_config) # Your code goes here\n",
    "\n",
    "# API request - run the query, and return a pandas DataFrame\n",
    "rides_per_year_result = rides_per_year_query_job.to_dataframe() # Your code goes here\n",
    "\n",
    "# View results\n",
    "print(rides_per_year_result)\n",
    "\n",
    "# Check your answer\n",
    "q_3.check()"
   ]
  },
  {
   "cell_type": "markdown",
   "id": "522d815a",
   "metadata": {
    "papermill": {
     "duration": 0.007409,
     "end_time": "2023-01-21T00:19:42.258670",
     "exception": false,
     "start_time": "2023-01-21T00:19:42.251261",
     "status": "completed"
    },
    "tags": []
   },
   "source": [
    "For a hint or the solution, uncomment the appropriate line below."
   ]
  },
  {
   "cell_type": "code",
   "execution_count": 9,
   "id": "99b57c75",
   "metadata": {
    "execution": {
     "iopub.execute_input": "2023-01-21T00:19:42.275969Z",
     "iopub.status.busy": "2023-01-21T00:19:42.275545Z",
     "iopub.status.idle": "2023-01-21T00:19:42.280181Z",
     "shell.execute_reply": "2023-01-21T00:19:42.278885Z"
    },
    "papermill": {
     "duration": 0.016073,
     "end_time": "2023-01-21T00:19:42.282404",
     "exception": false,
     "start_time": "2023-01-21T00:19:42.266331",
     "status": "completed"
    },
    "tags": []
   },
   "outputs": [],
   "source": [
    "#q_3.hint()\n",
    "#q_3.solution()"
   ]
  },
  {
   "cell_type": "markdown",
   "id": "3bf1388b",
   "metadata": {
    "papermill": {
     "duration": 0.007332,
     "end_time": "2023-01-21T00:19:42.297563",
     "exception": false,
     "start_time": "2023-01-21T00:19:42.290231",
     "status": "completed"
    },
    "tags": []
   },
   "source": [
    "### 4) Dive slightly deeper\n",
    "\n",
    "You'd like to take a closer look at rides from 2017.  Copy the query you used above in `rides_per_year_query` into the cell below for `rides_per_month_query`.  Then modify it in two ways:\n",
    "1. Use a **WHERE** clause to limit the query to data from 2017.\n",
    "2. Modify the query to extract the month rather than the year."
   ]
  },
  {
   "cell_type": "code",
   "execution_count": 10,
   "id": "b757933c",
   "metadata": {
    "execution": {
     "iopub.execute_input": "2023-01-21T00:19:42.314734Z",
     "iopub.status.busy": "2023-01-21T00:19:42.314350Z",
     "iopub.status.idle": "2023-01-21T00:19:43.290121Z",
     "shell.execute_reply": "2023-01-21T00:19:43.289148Z"
    },
    "papermill": {
     "duration": 0.987088,
     "end_time": "2023-01-21T00:19:43.292329",
     "exception": false,
     "start_time": "2023-01-21T00:19:42.305241",
     "status": "completed"
    },
    "tags": []
   },
   "outputs": [
    {
     "name": "stderr",
     "output_type": "stream",
     "text": [
      "/opt/conda/lib/python3.7/site-packages/google/cloud/bigquery/client.py:440: UserWarning: Cannot create BigQuery Storage client, the dependency google-cloud-bigquery-storage is not installed.\n",
      "  \"Cannot create BigQuery Storage client, the dependency \"\n"
     ]
    },
    {
     "name": "stdout",
     "output_type": "stream",
     "text": [
      "    month  num_trips\n",
      "0       1    1971708\n",
      "1       2    1909479\n",
      "2       3    2361634\n",
      "3       4    2194344\n",
      "4       5    2322631\n",
      "5       6    2323672\n",
      "6       7    2053471\n",
      "7       8    2078623\n",
      "8       9    1949427\n",
      "9      10    2140326\n",
      "10     11    1906884\n",
      "11     12    1767412\n"
     ]
    },
    {
     "data": {
      "application/javascript": [
       "parent.postMessage({\"jupyterEvent\": \"custom.exercise_interaction\", \"data\": {\"outcomeType\": 1, \"valueTowardsCompletion\": 0.16666666666666666, \"interactionType\": 1, \"questionType\": 2, \"questionId\": \"4_MonthDistrib\", \"learnToolsVersion\": \"0.3.4\", \"failureMessage\": \"\", \"exceptionClass\": \"\", \"trace\": \"\"}}, \"*\")"
      ],
      "text/plain": [
       "<IPython.core.display.Javascript object>"
      ]
     },
     "metadata": {},
     "output_type": "display_data"
    },
    {
     "data": {
      "text/markdown": [
       "<span style=\"color:#33cc33\">Correct</span>"
      ],
      "text/plain": [
       "Correct"
      ]
     },
     "metadata": {},
     "output_type": "display_data"
    }
   ],
   "source": [
    "# Your code goes here\n",
    "rides_per_month_query = \"\"\"\n",
    "                       SELECT EXTRACT(MONTH FROM trip_start_timestamp) as month,\n",
    "                              count(1) as num_trips\n",
    "                       FROM `bigquery-public-data.chicago_taxi_trips.taxi_trips`\n",
    "                       WHERE EXTRACT(YEAR FROM trip_start_timestamp) = 2017\n",
    "                       GROUP BY month\n",
    "                       ORDER BY month\n",
    "                       \"\"\"\n",
    "\n",
    "# Set up the query\n",
    "safe_config = bigquery.QueryJobConfig(maximum_bytes_billed=10**10)\n",
    "rides_per_month_query_job = client.query(rides_per_month_query, job_config=safe_config) # Your code goes here\n",
    "\n",
    "# API request - run the query, and return a pandas DataFrame\n",
    "rides_per_month_result = rides_per_month_query_job.to_dataframe() # Your code goes here\n",
    "\n",
    "# View results\n",
    "print(rides_per_month_result)\n",
    "\n",
    "# Check your answer\n",
    "q_4.check()"
   ]
  },
  {
   "cell_type": "markdown",
   "id": "92c610d3",
   "metadata": {
    "papermill": {
     "duration": 0.007728,
     "end_time": "2023-01-21T00:19:43.308230",
     "exception": false,
     "start_time": "2023-01-21T00:19:43.300502",
     "status": "completed"
    },
    "tags": []
   },
   "source": [
    "For a hint or the solution, uncomment the appropriate line below."
   ]
  },
  {
   "cell_type": "code",
   "execution_count": 11,
   "id": "aace0c70",
   "metadata": {
    "execution": {
     "iopub.execute_input": "2023-01-21T00:19:43.325963Z",
     "iopub.status.busy": "2023-01-21T00:19:43.325528Z",
     "iopub.status.idle": "2023-01-21T00:19:43.329909Z",
     "shell.execute_reply": "2023-01-21T00:19:43.328822Z"
    },
    "papermill": {
     "duration": 0.015865,
     "end_time": "2023-01-21T00:19:43.332060",
     "exception": false,
     "start_time": "2023-01-21T00:19:43.316195",
     "status": "completed"
    },
    "tags": []
   },
   "outputs": [],
   "source": [
    "#q_4.hint()\n",
    "#q_4.solution()"
   ]
  },
  {
   "cell_type": "markdown",
   "id": "420d8c11",
   "metadata": {
    "papermill": {
     "duration": 0.007659,
     "end_time": "2023-01-21T00:19:43.348100",
     "exception": false,
     "start_time": "2023-01-21T00:19:43.340441",
     "status": "completed"
    },
    "tags": []
   },
   "source": [
    "### 5) Write the query\n",
    "\n",
    "It's time to step up the sophistication of your queries.  Write a query that shows, for each hour of the day in the dataset, the corresponding number of trips and average speed.\n",
    "\n",
    "Your results should have three columns:\n",
    "- `hour_of_day` - sort by this column, which holds the result of extracting the hour from `trip_start_timestamp`.\n",
    "- `num_trips` - the count of the total number of trips in each hour of the day (e.g. how many trips were started between 6AM and 7AM, independent of which day it occurred on).\n",
    "- `avg_mph` - the average speed, measured in miles per hour, for trips that started in that hour of the day.  Average speed in miles per hour is calculated as `3600 * SUM(trip_miles) / SUM(trip_seconds)`. (The value 3600 is used to convert from seconds to hours.)\n",
    "\n",
    "Restrict your query to data meeting the following criteria:\n",
    "- a `trip_start_timestamp` between **2017-01-01** and **2017-07-01**\n",
    "- `trip_seconds` > 0 and `trip_miles` > 0\n",
    "\n",
    "You will use a common table expression (CTE) to select just the relevant rides.  Because this dataset is very big, this CTE should select only the columns you'll need to create the final output (though you won't actually create those in the CTE -- instead you'll create those in the later **SELECT** statement below the CTE).\n",
    "\n",
    "This is a much harder query than anything you've written so far.  Good luck!"
   ]
  },
  {
   "cell_type": "code",
   "execution_count": 12,
   "id": "ab566bb7",
   "metadata": {
    "execution": {
     "iopub.execute_input": "2023-01-21T00:19:43.365665Z",
     "iopub.status.busy": "2023-01-21T00:19:43.365272Z",
     "iopub.status.idle": "2023-01-21T00:19:44.375158Z",
     "shell.execute_reply": "2023-01-21T00:19:44.373932Z"
    },
    "papermill": {
     "duration": 1.021787,
     "end_time": "2023-01-21T00:19:44.377889",
     "exception": false,
     "start_time": "2023-01-21T00:19:43.356102",
     "status": "completed"
    },
    "tags": []
   },
   "outputs": [
    {
     "name": "stderr",
     "output_type": "stream",
     "text": [
      "/opt/conda/lib/python3.7/site-packages/google/cloud/bigquery/client.py:440: UserWarning: Cannot create BigQuery Storage client, the dependency google-cloud-bigquery-storage is not installed.\n",
      "  \"Cannot create BigQuery Storage client, the dependency \"\n"
     ]
    },
    {
     "name": "stdout",
     "output_type": "stream",
     "text": [
      "    hour_of_day  num_trips    avg_mph\n",
      "0             0     319326  20.231735\n",
      "1             1     266525  18.937962\n",
      "2             2     210147  18.777070\n",
      "3             3     159666  20.158374\n",
      "4             4     122183  26.736014\n",
      "5             5     119311  30.769411\n",
      "6             6     182736  24.588560\n",
      "7             7     358403  17.736209\n",
      "8             8     541745  15.081015\n",
      "9             9     565455  16.547683\n",
      "10           10     525030  18.543678\n",
      "11           11     594522  18.931559\n",
      "12           12     622249  17.841610\n",
      "13           13     630109  17.673604\n",
      "14           14     622402  16.976330\n",
      "15           15     640348  15.691071\n",
      "16           16     701345  14.286536\n",
      "17           17     756535  12.464977\n",
      "18           18     768159  13.648912\n",
      "19           19     700962  16.646259\n",
      "20           20     598536  19.540297\n",
      "21           21     552658  20.436899\n",
      "22           22     501059  19.533171\n",
      "23           23     399573  19.878003\n"
     ]
    },
    {
     "data": {
      "application/javascript": [
       "parent.postMessage({\"jupyterEvent\": \"custom.exercise_interaction\", \"data\": {\"outcomeType\": 1, \"valueTowardsCompletion\": 0.16666666666666666, \"interactionType\": 1, \"questionType\": 2, \"questionId\": \"5_TheLongQuery\", \"learnToolsVersion\": \"0.3.4\", \"failureMessage\": \"\", \"exceptionClass\": \"\", \"trace\": \"\"}}, \"*\")"
      ],
      "text/plain": [
       "<IPython.core.display.Javascript object>"
      ]
     },
     "metadata": {},
     "output_type": "display_data"
    },
    {
     "data": {
      "text/markdown": [
       "<span style=\"color:#33cc33\">Correct</span>"
      ],
      "text/plain": [
       "Correct"
      ]
     },
     "metadata": {},
     "output_type": "display_data"
    }
   ],
   "source": [
    "# Your code goes here\n",
    "speeds_query = \"\"\"\n",
    "               WITH RelevantRides AS\n",
    "               (\n",
    "                   SELECT EXTRACT(HOUR FROM trip_start_timestamp) as hour_of_day, \n",
    "                          trip_miles,\n",
    "                          trip_seconds\n",
    "                   FROM `bigquery-public-data.chicago_taxi_trips.taxi_trips`\n",
    "                   WHERE trip_start_timestamp > '2017-01-01' AND\n",
    "                         trip_start_timestamp < '2017-07-01' AND\n",
    "                         trip_seconds > 0 AND \n",
    "                         trip_miles > 0\n",
    "               )\n",
    "               SELECT hour_of_day, \n",
    "                      count(1) as num_trips,\n",
    "                      3600 * SUM(trip_miles) / SUM(trip_seconds) as avg_mph\n",
    "               FROM RelevantRides\n",
    "               GROUP BY hour_of_day\n",
    "               ORDER BY hour_of_day\n",
    "               \"\"\"\n",
    "# Set up the query\n",
    "safe_config = bigquery.QueryJobConfig(maximum_bytes_billed=10**10)\n",
    "speeds_query_job = client.query(speeds_query, job_config=safe_config) # Your code here\n",
    "\n",
    "# API request - run the query, and return a pandas DataFrame\n",
    "speeds_result = speeds_query_job.to_dataframe() # Your code here\n",
    "\n",
    "# View results\n",
    "print(speeds_result)\n",
    "\n",
    "# Check your answer\n",
    "q_5.check()"
   ]
  },
  {
   "cell_type": "markdown",
   "id": "dbdd2cf3",
   "metadata": {
    "papermill": {
     "duration": 0.008516,
     "end_time": "2023-01-21T00:19:44.395157",
     "exception": false,
     "start_time": "2023-01-21T00:19:44.386641",
     "status": "completed"
    },
    "tags": []
   },
   "source": [
    "For the solution, uncomment the appropriate line below."
   ]
  },
  {
   "cell_type": "code",
   "execution_count": 13,
   "id": "99b3df86",
   "metadata": {
    "execution": {
     "iopub.execute_input": "2023-01-21T00:19:44.414278Z",
     "iopub.status.busy": "2023-01-21T00:19:44.413876Z",
     "iopub.status.idle": "2023-01-21T00:19:44.418417Z",
     "shell.execute_reply": "2023-01-21T00:19:44.417330Z"
    },
    "papermill": {
     "duration": 0.016574,
     "end_time": "2023-01-21T00:19:44.420632",
     "exception": false,
     "start_time": "2023-01-21T00:19:44.404058",
     "status": "completed"
    },
    "tags": []
   },
   "outputs": [],
   "source": [
    "#q_5.solution()"
   ]
  },
  {
   "cell_type": "markdown",
   "id": "ee9a06df",
   "metadata": {
    "papermill": {
     "duration": 0.008598,
     "end_time": "2023-01-21T00:19:44.438005",
     "exception": false,
     "start_time": "2023-01-21T00:19:44.429407",
     "status": "completed"
    },
    "tags": []
   },
   "source": [
    "That's a hard query. If you made good progress towards the solution, congratulations!"
   ]
  },
  {
   "cell_type": "markdown",
   "id": "0b33dfb3",
   "metadata": {
    "papermill": {
     "duration": 0.008272,
     "end_time": "2023-01-21T00:19:44.454789",
     "exception": false,
     "start_time": "2023-01-21T00:19:44.446517",
     "status": "completed"
    },
    "tags": []
   },
   "source": [
    "# Keep going\n",
    "\n",
    "You can write very complex queries now with a single data source. But nothing expands the horizons of SQL as much as the ability to combine or **JOIN** tables.\n",
    "\n",
    "**[Click here](https://www.kaggle.com/dansbecker/joining-data)** to start the last lesson in the Intro to SQL micro-course."
   ]
  },
  {
   "cell_type": "markdown",
   "id": "9790f837",
   "metadata": {
    "papermill": {
     "duration": 0.008231,
     "end_time": "2023-01-21T00:19:44.471579",
     "exception": false,
     "start_time": "2023-01-21T00:19:44.463348",
     "status": "completed"
    },
    "tags": []
   },
   "source": [
    "---\n",
    "\n",
    "\n",
    "\n",
    "\n",
    "*Have questions or comments? Visit the [course discussion forum](https://www.kaggle.com/learn/intro-to-sql/discussion) to chat with other learners.*"
   ]
  }
 ],
 "metadata": {
  "kernelspec": {
   "display_name": "Python 3",
   "language": "python",
   "name": "python3"
  },
  "language_info": {
   "codemirror_mode": {
    "name": "ipython",
    "version": 3
   },
   "file_extension": ".py",
   "mimetype": "text/x-python",
   "name": "python",
   "nbconvert_exporter": "python",
   "pygments_lexer": "ipython3",
   "version": "3.7.12"
  },
  "papermill": {
   "default_parameters": {},
   "duration": 17.588677,
   "end_time": "2023-01-21T00:19:45.101504",
   "environment_variables": {},
   "exception": null,
   "input_path": "__notebook__.ipynb",
   "output_path": "__notebook__.ipynb",
   "parameters": {},
   "start_time": "2023-01-21T00:19:27.512827",
   "version": "2.3.4"
  }
 },
 "nbformat": 4,
 "nbformat_minor": 5
}
