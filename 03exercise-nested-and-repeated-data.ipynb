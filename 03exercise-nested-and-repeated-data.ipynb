{
 "cells": [
  {
   "cell_type": "markdown",
   "id": "35be8e0a",
   "metadata": {
    "papermill": {
     "duration": 0.006613,
     "end_time": "2023-01-27T00:04:17.759735",
     "exception": false,
     "start_time": "2023-01-27T00:04:17.753122",
     "status": "completed"
    },
    "tags": []
   },
   "source": [
    "**This notebook is an exercise in the [Advanced SQL](https://www.kaggle.com/learn/advanced-sql) course.  You can reference the tutorial at [this link](https://www.kaggle.com/alexisbcook/nested-and-repeated-data).**\n",
    "\n",
    "---\n"
   ]
  },
  {
   "cell_type": "markdown",
   "id": "5985e3eb",
   "metadata": {
    "papermill": {
     "duration": 0.005067,
     "end_time": "2023-01-27T00:04:17.770390",
     "exception": false,
     "start_time": "2023-01-27T00:04:17.765323",
     "status": "completed"
    },
    "tags": []
   },
   "source": [
    "# Introduction\n",
    "\n",
    "Now that you know how to query nested and repeated data, you're ready to draw interesting insights from the [GitHub Repos](https://www.kaggle.com/github/github-repos) dataset.  \n",
    "\n",
    "Before you get started, run the following cell to set everything up."
   ]
  },
  {
   "cell_type": "code",
   "execution_count": 1,
   "id": "3965fb6a",
   "metadata": {
    "execution": {
     "iopub.execute_input": "2023-01-27T00:04:17.782973Z",
     "iopub.status.busy": "2023-01-27T00:04:17.782498Z",
     "iopub.status.idle": "2023-01-27T00:04:21.150677Z",
     "shell.execute_reply": "2023-01-27T00:04:21.149378Z"
    },
    "papermill": {
     "duration": 3.378394,
     "end_time": "2023-01-27T00:04:21.154183",
     "exception": false,
     "start_time": "2023-01-27T00:04:17.775789",
     "status": "completed"
    },
    "tags": []
   },
   "outputs": [
    {
     "name": "stdout",
     "output_type": "stream",
     "text": [
      "Using Kaggle's public dataset BigQuery integration.\n"
     ]
    },
    {
     "name": "stderr",
     "output_type": "stream",
     "text": [
      "/opt/conda/lib/python3.7/site-packages/google/cloud/bigquery/client.py:440: UserWarning: Cannot create BigQuery Storage client, the dependency google-cloud-bigquery-storage is not installed.\n",
      "  \"Cannot create BigQuery Storage client, the dependency \"\n"
     ]
    },
    {
     "name": "stdout",
     "output_type": "stream",
     "text": [
      "Setup Complete\n"
     ]
    }
   ],
   "source": [
    "# Set up feedback system\n",
    "from learntools.core import binder\n",
    "binder.bind(globals())\n",
    "from learntools.sql_advanced.ex3 import *\n",
    "print(\"Setup Complete\")"
   ]
  },
  {
   "cell_type": "markdown",
   "id": "f88fcc38",
   "metadata": {
    "papermill": {
     "duration": 0.005481,
     "end_time": "2023-01-27T00:04:21.166065",
     "exception": false,
     "start_time": "2023-01-27T00:04:21.160584",
     "status": "completed"
    },
    "tags": []
   },
   "source": [
    "# Exercises\n",
    "\n",
    "### 1) Who had the most commits in 2016?\n",
    "\n",
    "GitHub is the most popular place to collaborate on software projects. A GitHub **repository** (or repo) is a collection of files associated with a specific project, and a GitHub **commit** is a change that a user has made to a repository.  We refer to the user as a **committer**.\n",
    "\n",
    "The `sample_commits` table contains a small sample of GitHub commits, where each row corresponds to different commit.  The code cell below fetches the table and shows the first five rows of this table."
   ]
  },
  {
   "cell_type": "code",
   "execution_count": 2,
   "id": "b89ecc1e",
   "metadata": {
    "execution": {
     "iopub.execute_input": "2023-01-27T00:04:21.179548Z",
     "iopub.status.busy": "2023-01-27T00:04:21.179142Z",
     "iopub.status.idle": "2023-01-27T00:04:22.231383Z",
     "shell.execute_reply": "2023-01-27T00:04:22.230164Z"
    },
    "papermill": {
     "duration": 1.062417,
     "end_time": "2023-01-27T00:04:22.234132",
     "exception": false,
     "start_time": "2023-01-27T00:04:21.171715",
     "status": "completed"
    },
    "tags": []
   },
   "outputs": [
    {
     "name": "stdout",
     "output_type": "stream",
     "text": [
      "Using Kaggle's public dataset BigQuery integration.\n"
     ]
    },
    {
     "name": "stderr",
     "output_type": "stream",
     "text": [
      "/opt/conda/lib/python3.7/site-packages/ipykernel_launcher.py:19: UserWarning: Cannot use bqstorage_client if max_results is set, reverting to fetching data with the tabledata.list endpoint.\n"
     ]
    },
    {
     "data": {
      "text/html": [
       "<div>\n",
       "<style scoped>\n",
       "    .dataframe tbody tr th:only-of-type {\n",
       "        vertical-align: middle;\n",
       "    }\n",
       "\n",
       "    .dataframe tbody tr th {\n",
       "        vertical-align: top;\n",
       "    }\n",
       "\n",
       "    .dataframe thead th {\n",
       "        text-align: right;\n",
       "    }\n",
       "</style>\n",
       "<table border=\"1\" class=\"dataframe\">\n",
       "  <thead>\n",
       "    <tr style=\"text-align: right;\">\n",
       "      <th></th>\n",
       "      <th>commit</th>\n",
       "      <th>tree</th>\n",
       "      <th>parent</th>\n",
       "      <th>author</th>\n",
       "      <th>committer</th>\n",
       "      <th>subject</th>\n",
       "      <th>message</th>\n",
       "      <th>trailer</th>\n",
       "      <th>difference</th>\n",
       "      <th>difference_truncated</th>\n",
       "      <th>repo_name</th>\n",
       "      <th>encoding</th>\n",
       "    </tr>\n",
       "  </thead>\n",
       "  <tbody>\n",
       "    <tr>\n",
       "      <th>0</th>\n",
       "      <td>afdba32e2a9ea729a9f9f280dbf6c718773c7ded</td>\n",
       "      <td>d77cca8a096e5320f3194d4a6ca1b4fef2dc9b99</td>\n",
       "      <td>[d65e55d4999b394e37ffe12543ecd2a17b7c44fc]</td>\n",
       "      <td>{'name': 'Jason Gunthorpe', 'email': 'a99b91d7...</td>\n",
       "      <td>{'name': 'Peter Huewe', 'email': '014f16385c5a...</td>\n",
       "      <td>tpm: Pull everything related to /dev/tpmX into...</td>\n",
       "      <td>tpm: Pull everything related to /dev/tpmX into...</td>\n",
       "      <td>[{'key': 'Signed-off-by', 'value': 'Jason Gunt...</td>\n",
       "      <td>[{'old_mode': 33188.0, 'new_mode': 33188, 'old...</td>\n",
       "      <td>None</td>\n",
       "      <td>torvalds/linux</td>\n",
       "      <td>None</td>\n",
       "    </tr>\n",
       "    <tr>\n",
       "      <th>1</th>\n",
       "      <td>eb846d9f147455e4e5e1863bfb5e31974bb69b7c</td>\n",
       "      <td>443efbb146c7824508be817923bab04c2185810e</td>\n",
       "      <td>[3af6b35261182ff185db1f0fd271254147e2663e]</td>\n",
       "      <td>{'name': 'Hannes Reinecke', 'email': 'b0d1e9e4...</td>\n",
       "      <td>{'name': 'Christoph Hellwig', 'email': '923f77...</td>\n",
       "      <td>scsi: rename SERVICE_ACTION_IN to SERVICE_ACTI...</td>\n",
       "      <td>scsi: rename SERVICE_ACTION_IN to SERVICE_ACTI...</td>\n",
       "      <td>[{'key': 'Signed-off-by', 'value': 'Hannes Rei...</td>\n",
       "      <td>[{'old_mode': 33188.0, 'new_mode': 33188, 'old...</td>\n",
       "      <td>None</td>\n",
       "      <td>torvalds/linux</td>\n",
       "      <td>None</td>\n",
       "    </tr>\n",
       "    <tr>\n",
       "      <th>2</th>\n",
       "      <td>f8798ccbefc0e4ef7438c080b7ba0410738c8cfa</td>\n",
       "      <td>9133440693c02314f1f6f95629b3594ce24ad0f8</td>\n",
       "      <td>[261e767628bb5971b9032439818237cc8511ea94]</td>\n",
       "      <td>{'name': 'Yong Zhang', 'email': '34add0fe16a1f...</td>\n",
       "      <td>{'name': 'Florian Tobias Schandinat', 'email':...</td>\n",
       "      <td>video: irq: Remove IRQF_DISABLED</td>\n",
       "      <td>video: irq: Remove IRQF_DISABLED\\n\\nSince comm...</td>\n",
       "      <td>[{'key': 'Signed-off-by', 'value': 'Yong Zhang...</td>\n",
       "      <td>[{'old_mode': 33188.0, 'new_mode': 33188, 'old...</td>\n",
       "      <td>None</td>\n",
       "      <td>torvalds/linux</td>\n",
       "      <td>None</td>\n",
       "    </tr>\n",
       "    <tr>\n",
       "      <th>3</th>\n",
       "      <td>b83ae6d421435c6204150300f1c25bfbd39cd62b</td>\n",
       "      <td>99c6b661ab7de05c2fd49aa62624d2d6bf8abc69</td>\n",
       "      <td>[de1414a654e66b81b5348dbc5259ecf2fb61655e]</td>\n",
       "      <td>{'name': 'Christoph Hellwig', 'email': '923f77...</td>\n",
       "      <td>{'name': 'Jens Axboe', 'email': 'cd8c6775e60d6...</td>\n",
       "      <td>fs: remove mapping-&gt;backing_dev_info</td>\n",
       "      <td>fs: remove mapping-&gt;backing_dev_info\\n\\nNow th...</td>\n",
       "      <td>[{'key': 'Signed-off-by', 'value': 'Christoph ...</td>\n",
       "      <td>[{'old_mode': 33188.0, 'new_mode': 33188, 'old...</td>\n",
       "      <td>None</td>\n",
       "      <td>torvalds/linux</td>\n",
       "      <td>None</td>\n",
       "    </tr>\n",
       "    <tr>\n",
       "      <th>4</th>\n",
       "      <td>aaabee8b7686dfe49f10289cb4b7a817b99e5dd9</td>\n",
       "      <td>7ccc6cf829a93d46daf484164a5466c91eca2efa</td>\n",
       "      <td>[795e9364215dc98b1dea888ebae22383ecbbb92a, 2f2...</td>\n",
       "      <td>{'name': 'Luciano Coelho', 'email': 'd1ef58086...</td>\n",
       "      <td>{'name': 'Luciano Coelho', 'email': 'd1ef58086...</td>\n",
       "      <td>Merge branch 'wl12xx-next' into for-linville</td>\n",
       "      <td>Merge branch 'wl12xx-next' into for-linville\\n...</td>\n",
       "      <td>[{'key': 'Conflicts', 'value': '', 'email': No...</td>\n",
       "      <td>[{'old_mode': 33188.0, 'new_mode': 33188, 'old...</td>\n",
       "      <td>None</td>\n",
       "      <td>torvalds/linux</td>\n",
       "      <td>None</td>\n",
       "    </tr>\n",
       "  </tbody>\n",
       "</table>\n",
       "</div>"
      ],
      "text/plain": [
       "                                     commit  \\\n",
       "0  afdba32e2a9ea729a9f9f280dbf6c718773c7ded   \n",
       "1  eb846d9f147455e4e5e1863bfb5e31974bb69b7c   \n",
       "2  f8798ccbefc0e4ef7438c080b7ba0410738c8cfa   \n",
       "3  b83ae6d421435c6204150300f1c25bfbd39cd62b   \n",
       "4  aaabee8b7686dfe49f10289cb4b7a817b99e5dd9   \n",
       "\n",
       "                                       tree  \\\n",
       "0  d77cca8a096e5320f3194d4a6ca1b4fef2dc9b99   \n",
       "1  443efbb146c7824508be817923bab04c2185810e   \n",
       "2  9133440693c02314f1f6f95629b3594ce24ad0f8   \n",
       "3  99c6b661ab7de05c2fd49aa62624d2d6bf8abc69   \n",
       "4  7ccc6cf829a93d46daf484164a5466c91eca2efa   \n",
       "\n",
       "                                              parent  \\\n",
       "0         [d65e55d4999b394e37ffe12543ecd2a17b7c44fc]   \n",
       "1         [3af6b35261182ff185db1f0fd271254147e2663e]   \n",
       "2         [261e767628bb5971b9032439818237cc8511ea94]   \n",
       "3         [de1414a654e66b81b5348dbc5259ecf2fb61655e]   \n",
       "4  [795e9364215dc98b1dea888ebae22383ecbbb92a, 2f2...   \n",
       "\n",
       "                                              author  \\\n",
       "0  {'name': 'Jason Gunthorpe', 'email': 'a99b91d7...   \n",
       "1  {'name': 'Hannes Reinecke', 'email': 'b0d1e9e4...   \n",
       "2  {'name': 'Yong Zhang', 'email': '34add0fe16a1f...   \n",
       "3  {'name': 'Christoph Hellwig', 'email': '923f77...   \n",
       "4  {'name': 'Luciano Coelho', 'email': 'd1ef58086...   \n",
       "\n",
       "                                           committer  \\\n",
       "0  {'name': 'Peter Huewe', 'email': '014f16385c5a...   \n",
       "1  {'name': 'Christoph Hellwig', 'email': '923f77...   \n",
       "2  {'name': 'Florian Tobias Schandinat', 'email':...   \n",
       "3  {'name': 'Jens Axboe', 'email': 'cd8c6775e60d6...   \n",
       "4  {'name': 'Luciano Coelho', 'email': 'd1ef58086...   \n",
       "\n",
       "                                             subject  \\\n",
       "0  tpm: Pull everything related to /dev/tpmX into...   \n",
       "1  scsi: rename SERVICE_ACTION_IN to SERVICE_ACTI...   \n",
       "2                   video: irq: Remove IRQF_DISABLED   \n",
       "3               fs: remove mapping->backing_dev_info   \n",
       "4       Merge branch 'wl12xx-next' into for-linville   \n",
       "\n",
       "                                             message  \\\n",
       "0  tpm: Pull everything related to /dev/tpmX into...   \n",
       "1  scsi: rename SERVICE_ACTION_IN to SERVICE_ACTI...   \n",
       "2  video: irq: Remove IRQF_DISABLED\\n\\nSince comm...   \n",
       "3  fs: remove mapping->backing_dev_info\\n\\nNow th...   \n",
       "4  Merge branch 'wl12xx-next' into for-linville\\n...   \n",
       "\n",
       "                                             trailer  \\\n",
       "0  [{'key': 'Signed-off-by', 'value': 'Jason Gunt...   \n",
       "1  [{'key': 'Signed-off-by', 'value': 'Hannes Rei...   \n",
       "2  [{'key': 'Signed-off-by', 'value': 'Yong Zhang...   \n",
       "3  [{'key': 'Signed-off-by', 'value': 'Christoph ...   \n",
       "4  [{'key': 'Conflicts', 'value': '', 'email': No...   \n",
       "\n",
       "                                          difference difference_truncated  \\\n",
       "0  [{'old_mode': 33188.0, 'new_mode': 33188, 'old...                 None   \n",
       "1  [{'old_mode': 33188.0, 'new_mode': 33188, 'old...                 None   \n",
       "2  [{'old_mode': 33188.0, 'new_mode': 33188, 'old...                 None   \n",
       "3  [{'old_mode': 33188.0, 'new_mode': 33188, 'old...                 None   \n",
       "4  [{'old_mode': 33188.0, 'new_mode': 33188, 'old...                 None   \n",
       "\n",
       "        repo_name encoding  \n",
       "0  torvalds/linux     None  \n",
       "1  torvalds/linux     None  \n",
       "2  torvalds/linux     None  \n",
       "3  torvalds/linux     None  \n",
       "4  torvalds/linux     None  "
      ]
     },
     "execution_count": 2,
     "metadata": {},
     "output_type": "execute_result"
    }
   ],
   "source": [
    "from google.cloud import bigquery\n",
    "\n",
    "# Create a \"Client\" object\n",
    "client = bigquery.Client()\n",
    "\n",
    "# Construct a reference to the \"github_repos\" dataset\n",
    "dataset_ref = client.dataset(\"github_repos\", project=\"bigquery-public-data\")\n",
    "\n",
    "# API request - fetch the dataset\n",
    "dataset = client.get_dataset(dataset_ref)\n",
    "\n",
    "# Construct a reference to the \"sample_commits\" table\n",
    "table_ref = dataset_ref.table(\"sample_commits\")\n",
    "\n",
    "# API request - fetch the table\n",
    "sample_commits_table = client.get_table(table_ref)\n",
    "\n",
    "# Preview the first five lines of the table\n",
    "client.list_rows(sample_commits_table, max_results=5).to_dataframe()"
   ]
  },
  {
   "cell_type": "markdown",
   "id": "11e46c3b",
   "metadata": {
    "papermill": {
     "duration": 0.00587,
     "end_time": "2023-01-27T00:04:22.246219",
     "exception": false,
     "start_time": "2023-01-27T00:04:22.240349",
     "status": "completed"
    },
    "tags": []
   },
   "source": [
    "Run the next code cell to print the table schema. "
   ]
  },
  {
   "cell_type": "code",
   "execution_count": 3,
   "id": "ddfb4638",
   "metadata": {
    "execution": {
     "iopub.execute_input": "2023-01-27T00:04:22.260874Z",
     "iopub.status.busy": "2023-01-27T00:04:22.259875Z",
     "iopub.status.idle": "2023-01-27T00:04:22.266124Z",
     "shell.execute_reply": "2023-01-27T00:04:22.265149Z"
    },
    "papermill": {
     "duration": 0.015891,
     "end_time": "2023-01-27T00:04:22.268247",
     "exception": false,
     "start_time": "2023-01-27T00:04:22.252356",
     "status": "completed"
    },
    "tags": []
   },
   "outputs": [
    {
     "data": {
      "text/plain": [
       "[SchemaField('commit', 'STRING', 'NULLABLE', None, (), None),\n",
       " SchemaField('tree', 'STRING', 'NULLABLE', None, (), None),\n",
       " SchemaField('parent', 'STRING', 'REPEATED', None, (), None),\n",
       " SchemaField('author', 'RECORD', 'NULLABLE', None, (SchemaField('name', 'STRING', 'NULLABLE', None, (), None), SchemaField('email', 'STRING', 'NULLABLE', None, (), None), SchemaField('time_sec', 'INTEGER', 'NULLABLE', None, (), None), SchemaField('tz_offset', 'INTEGER', 'NULLABLE', None, (), None), SchemaField('date', 'TIMESTAMP', 'NULLABLE', None, (), None)), None),\n",
       " SchemaField('committer', 'RECORD', 'NULLABLE', None, (SchemaField('name', 'STRING', 'NULLABLE', None, (), None), SchemaField('email', 'STRING', 'NULLABLE', None, (), None), SchemaField('time_sec', 'INTEGER', 'NULLABLE', None, (), None), SchemaField('tz_offset', 'INTEGER', 'NULLABLE', None, (), None), SchemaField('date', 'TIMESTAMP', 'NULLABLE', None, (), None)), None),\n",
       " SchemaField('subject', 'STRING', 'NULLABLE', None, (), None),\n",
       " SchemaField('message', 'STRING', 'NULLABLE', None, (), None),\n",
       " SchemaField('trailer', 'RECORD', 'REPEATED', None, (SchemaField('key', 'STRING', 'NULLABLE', None, (), None), SchemaField('value', 'STRING', 'NULLABLE', None, (), None), SchemaField('email', 'STRING', 'NULLABLE', None, (), None)), None),\n",
       " SchemaField('difference', 'RECORD', 'REPEATED', None, (SchemaField('old_mode', 'INTEGER', 'NULLABLE', None, (), None), SchemaField('new_mode', 'INTEGER', 'NULLABLE', None, (), None), SchemaField('old_path', 'STRING', 'NULLABLE', None, (), None), SchemaField('new_path', 'STRING', 'NULLABLE', None, (), None), SchemaField('old_sha1', 'STRING', 'NULLABLE', None, (), None), SchemaField('new_sha1', 'STRING', 'NULLABLE', None, (), None), SchemaField('old_repo', 'STRING', 'NULLABLE', None, (), None), SchemaField('new_repo', 'STRING', 'NULLABLE', None, (), None)), None),\n",
       " SchemaField('difference_truncated', 'BOOLEAN', 'NULLABLE', None, (), None),\n",
       " SchemaField('repo_name', 'STRING', 'NULLABLE', None, (), None),\n",
       " SchemaField('encoding', 'STRING', 'NULLABLE', None, (), None)]"
      ]
     },
     "execution_count": 3,
     "metadata": {},
     "output_type": "execute_result"
    }
   ],
   "source": [
    "# Print information on all the columns in the table\n",
    "sample_commits_table.schema"
   ]
  },
  {
   "cell_type": "markdown",
   "id": "bf719ce1",
   "metadata": {
    "papermill": {
     "duration": 0.00582,
     "end_time": "2023-01-27T00:04:22.280244",
     "exception": false,
     "start_time": "2023-01-27T00:04:22.274424",
     "status": "completed"
    },
    "tags": []
   },
   "source": [
    "Write a query to find the individuals with the most commits in this table in 2016.  Your query should return a table with two columns:\n",
    "- `committer_name` - contains the name of each individual with a commit (from 2016) in the table\n",
    "- `num_commits` - shows the number of commits the individual has in the table (from 2016)\n",
    "\n",
    "Sort the table, so that people with more commits appear first.\n",
    "\n",
    "**NOTE**: You can find the name of each committer and the date of the commit under the \"committer\" column, in the \"name\" and \"date\" child fields, respectively."
   ]
  },
  {
   "cell_type": "code",
   "execution_count": 4,
   "id": "6c51798d",
   "metadata": {
    "execution": {
     "iopub.execute_input": "2023-01-27T00:04:22.294440Z",
     "iopub.status.busy": "2023-01-27T00:04:22.293716Z",
     "iopub.status.idle": "2023-01-27T00:04:23.428294Z",
     "shell.execute_reply": "2023-01-27T00:04:23.427284Z"
    },
    "papermill": {
     "duration": 1.144089,
     "end_time": "2023-01-27T00:04:23.430403",
     "exception": false,
     "start_time": "2023-01-27T00:04:22.286314",
     "status": "completed"
    },
    "tags": []
   },
   "outputs": [
    {
     "name": "stderr",
     "output_type": "stream",
     "text": [
      "/opt/conda/lib/python3.7/site-packages/google/cloud/bigquery/client.py:440: UserWarning: Cannot create BigQuery Storage client, the dependency google-cloud-bigquery-storage is not installed.\n",
      "  \"Cannot create BigQuery Storage client, the dependency \"\n"
     ]
    },
    {
     "data": {
      "text/html": [
       "<div>\n",
       "<style scoped>\n",
       "    .dataframe tbody tr th:only-of-type {\n",
       "        vertical-align: middle;\n",
       "    }\n",
       "\n",
       "    .dataframe tbody tr th {\n",
       "        vertical-align: top;\n",
       "    }\n",
       "\n",
       "    .dataframe thead th {\n",
       "        text-align: right;\n",
       "    }\n",
       "</style>\n",
       "<table border=\"1\" class=\"dataframe\">\n",
       "  <thead>\n",
       "    <tr style=\"text-align: right;\">\n",
       "      <th></th>\n",
       "      <th>committer_name</th>\n",
       "      <th>num_commits</th>\n",
       "    </tr>\n",
       "  </thead>\n",
       "  <tbody>\n",
       "    <tr>\n",
       "      <th>0</th>\n",
       "      <td>Greg Kroah-Hartman</td>\n",
       "      <td>3545</td>\n",
       "    </tr>\n",
       "    <tr>\n",
       "      <th>1</th>\n",
       "      <td>David S. Miller</td>\n",
       "      <td>3120</td>\n",
       "    </tr>\n",
       "    <tr>\n",
       "      <th>2</th>\n",
       "      <td>TensorFlower Gardener</td>\n",
       "      <td>2449</td>\n",
       "    </tr>\n",
       "    <tr>\n",
       "      <th>3</th>\n",
       "      <td>Linus Torvalds</td>\n",
       "      <td>2424</td>\n",
       "    </tr>\n",
       "    <tr>\n",
       "      <th>4</th>\n",
       "      <td>Benjamin Pasero</td>\n",
       "      <td>1127</td>\n",
       "    </tr>\n",
       "  </tbody>\n",
       "</table>\n",
       "</div>"
      ],
      "text/plain": [
       "          committer_name  num_commits\n",
       "0     Greg Kroah-Hartman         3545\n",
       "1        David S. Miller         3120\n",
       "2  TensorFlower Gardener         2449\n",
       "3         Linus Torvalds         2424\n",
       "4        Benjamin Pasero         1127"
      ]
     },
     "metadata": {},
     "output_type": "display_data"
    },
    {
     "data": {
      "application/javascript": [
       "parent.postMessage({\"jupyterEvent\": \"custom.exercise_interaction\", \"data\": {\"outcomeType\": 1, \"valueTowardsCompletion\": 0.25, \"interactionType\": 1, \"questionType\": 2, \"questionId\": \"1_MaxCommits\", \"learnToolsVersion\": \"0.3.4\", \"failureMessage\": \"\", \"exceptionClass\": \"\", \"trace\": \"\"}}, \"*\")"
      ],
      "text/plain": [
       "<IPython.core.display.Javascript object>"
      ]
     },
     "metadata": {},
     "output_type": "display_data"
    },
    {
     "data": {
      "text/markdown": [
       "<span style=\"color:#33cc33\">Correct</span>"
      ],
      "text/plain": [
       "Correct"
      ]
     },
     "metadata": {},
     "output_type": "display_data"
    }
   ],
   "source": [
    "# Write a query to find the answer\n",
    "max_commits_query = \"\"\"\n",
    "                    SELECT committer.name AS committer_name, \n",
    "                           COUNT(*) AS num_commits\n",
    "                    FROM `bigquery-public-data.github_repos.sample_commits`\n",
    "                    WHERE EXTRACT(YEAR FROM committer.date) = 2016\n",
    "                    GROUP BY committer_name\n",
    "                    ORDER BY num_commits DESC\n",
    "                    \"\"\"\n",
    "\n",
    "# Check your answer\n",
    "q_1.check()"
   ]
  },
  {
   "cell_type": "code",
   "execution_count": 5,
   "id": "dacf2e96",
   "metadata": {
    "execution": {
     "iopub.execute_input": "2023-01-27T00:04:23.445455Z",
     "iopub.status.busy": "2023-01-27T00:04:23.444907Z",
     "iopub.status.idle": "2023-01-27T00:04:23.448154Z",
     "shell.execute_reply": "2023-01-27T00:04:23.447504Z"
    },
    "papermill": {
     "duration": 0.012875,
     "end_time": "2023-01-27T00:04:23.450045",
     "exception": false,
     "start_time": "2023-01-27T00:04:23.437170",
     "status": "completed"
    },
    "tags": []
   },
   "outputs": [],
   "source": [
    "# Lines below will give you a hint or solution code\n",
    "#q_1.hint()\n",
    "#q_1.solution()"
   ]
  },
  {
   "cell_type": "markdown",
   "id": "ec4ac230",
   "metadata": {
    "papermill": {
     "duration": 0.006295,
     "end_time": "2023-01-27T00:04:23.463158",
     "exception": false,
     "start_time": "2023-01-27T00:04:23.456863",
     "status": "completed"
    },
    "tags": []
   },
   "source": [
    "### 2) Look at languages!\n",
    "\n",
    "Now you will work with the `languages` table.  Run the code cell below to print the first few rows."
   ]
  },
  {
   "cell_type": "code",
   "execution_count": 6,
   "id": "8b507de0",
   "metadata": {
    "execution": {
     "iopub.execute_input": "2023-01-27T00:04:23.478060Z",
     "iopub.status.busy": "2023-01-27T00:04:23.477511Z",
     "iopub.status.idle": "2023-01-27T00:04:24.402910Z",
     "shell.execute_reply": "2023-01-27T00:04:24.401466Z"
    },
    "papermill": {
     "duration": 0.935777,
     "end_time": "2023-01-27T00:04:24.405380",
     "exception": false,
     "start_time": "2023-01-27T00:04:23.469603",
     "status": "completed"
    },
    "tags": []
   },
   "outputs": [
    {
     "name": "stderr",
     "output_type": "stream",
     "text": [
      "/opt/conda/lib/python3.7/site-packages/ipykernel_launcher.py:8: UserWarning: Cannot use bqstorage_client if max_results is set, reverting to fetching data with the tabledata.list endpoint.\n",
      "  \n"
     ]
    },
    {
     "data": {
      "text/html": [
       "<div>\n",
       "<style scoped>\n",
       "    .dataframe tbody tr th:only-of-type {\n",
       "        vertical-align: middle;\n",
       "    }\n",
       "\n",
       "    .dataframe tbody tr th {\n",
       "        vertical-align: top;\n",
       "    }\n",
       "\n",
       "    .dataframe thead th {\n",
       "        text-align: right;\n",
       "    }\n",
       "</style>\n",
       "<table border=\"1\" class=\"dataframe\">\n",
       "  <thead>\n",
       "    <tr style=\"text-align: right;\">\n",
       "      <th></th>\n",
       "      <th>repo_name</th>\n",
       "      <th>language</th>\n",
       "    </tr>\n",
       "  </thead>\n",
       "  <tbody>\n",
       "    <tr>\n",
       "      <th>0</th>\n",
       "      <td>lemi136/puntovent</td>\n",
       "      <td>[{'name': 'C', 'bytes': 80}]</td>\n",
       "    </tr>\n",
       "    <tr>\n",
       "      <th>1</th>\n",
       "      <td>taxigps/nctool</td>\n",
       "      <td>[{'name': 'C', 'bytes': 4461}]</td>\n",
       "    </tr>\n",
       "    <tr>\n",
       "      <th>2</th>\n",
       "      <td>ahy1/strbuf</td>\n",
       "      <td>[{'name': 'C', 'bytes': 5573}]</td>\n",
       "    </tr>\n",
       "    <tr>\n",
       "      <th>3</th>\n",
       "      <td>nleiten/mod_rpaf-ng</td>\n",
       "      <td>[{'name': 'C', 'bytes': 30330}]</td>\n",
       "    </tr>\n",
       "    <tr>\n",
       "      <th>4</th>\n",
       "      <td>kmcallister/alameda</td>\n",
       "      <td>[{'name': 'C', 'bytes': 17077}]</td>\n",
       "    </tr>\n",
       "  </tbody>\n",
       "</table>\n",
       "</div>"
      ],
      "text/plain": [
       "             repo_name                         language\n",
       "0    lemi136/puntovent     [{'name': 'C', 'bytes': 80}]\n",
       "1       taxigps/nctool   [{'name': 'C', 'bytes': 4461}]\n",
       "2          ahy1/strbuf   [{'name': 'C', 'bytes': 5573}]\n",
       "3  nleiten/mod_rpaf-ng  [{'name': 'C', 'bytes': 30330}]\n",
       "4  kmcallister/alameda  [{'name': 'C', 'bytes': 17077}]"
      ]
     },
     "execution_count": 6,
     "metadata": {},
     "output_type": "execute_result"
    }
   ],
   "source": [
    "# Construct a reference to the \"languages\" table\n",
    "table_ref = dataset_ref.table(\"languages\")\n",
    "\n",
    "# API request - fetch the table\n",
    "languages_table = client.get_table(table_ref)\n",
    "\n",
    "# Preview the first five lines of the table\n",
    "client.list_rows(languages_table, max_results=5).to_dataframe()"
   ]
  },
  {
   "cell_type": "markdown",
   "id": "7cfe3d1f",
   "metadata": {
    "papermill": {
     "duration": 0.00748,
     "end_time": "2023-01-27T00:04:24.419867",
     "exception": false,
     "start_time": "2023-01-27T00:04:24.412387",
     "status": "completed"
    },
    "tags": []
   },
   "source": [
    "Each row of the `languages` table corresponds to a different repository.  \n",
    "- The \"repo_name\" column contains the name of the repository,\n",
    "- the \"name\" field in the \"language\" column contains the programming languages that can be found in the repo, and \n",
    "- the \"bytes\" field in the \"language\" column has the size of the files (in bytes, for the corresponding language).\n",
    "\n",
    "Run the following code cell to print the table schema."
   ]
  },
  {
   "cell_type": "code",
   "execution_count": 7,
   "id": "cb18d6db",
   "metadata": {
    "execution": {
     "iopub.execute_input": "2023-01-27T00:04:24.435531Z",
     "iopub.status.busy": "2023-01-27T00:04:24.435127Z",
     "iopub.status.idle": "2023-01-27T00:04:24.441991Z",
     "shell.execute_reply": "2023-01-27T00:04:24.440927Z"
    },
    "papermill": {
     "duration": 0.017353,
     "end_time": "2023-01-27T00:04:24.444249",
     "exception": false,
     "start_time": "2023-01-27T00:04:24.426896",
     "status": "completed"
    },
    "tags": []
   },
   "outputs": [
    {
     "data": {
      "text/plain": [
       "[SchemaField('repo_name', 'STRING', 'NULLABLE', None, (), None),\n",
       " SchemaField('language', 'RECORD', 'REPEATED', None, (SchemaField('name', 'STRING', 'NULLABLE', None, (), None), SchemaField('bytes', 'INTEGER', 'NULLABLE', None, (), None)), None)]"
      ]
     },
     "execution_count": 7,
     "metadata": {},
     "output_type": "execute_result"
    }
   ],
   "source": [
    "# Print information on all the columns in the table\n",
    "languages_table.schema"
   ]
  },
  {
   "cell_type": "markdown",
   "id": "99db9104",
   "metadata": {
    "papermill": {
     "duration": 0.007022,
     "end_time": "2023-01-27T00:04:24.458380",
     "exception": false,
     "start_time": "2023-01-27T00:04:24.451358",
     "status": "completed"
    },
    "tags": []
   },
   "source": [
    "Assume for the moment that you have access to a table called `sample_languages` that contains only a very small subset of the rows from the `languages` table: in fact, it contains only three rows!  This table is depicted in the image below.\n",
    "\n",
    "![](https://i.imgur.com/qAb5lZ2.png)\n",
    "\n",
    "How many rows are in the table returned by the query below?\n",
    "\n",
    "![](https://i.imgur.com/Q5qYAtz.png)\n",
    "\n",
    "Fill in your answer in the next code cell."
   ]
  },
  {
   "cell_type": "code",
   "execution_count": 8,
   "id": "eeb80d2d",
   "metadata": {
    "execution": {
     "iopub.execute_input": "2023-01-27T00:04:24.474558Z",
     "iopub.status.busy": "2023-01-27T00:04:24.473850Z",
     "iopub.status.idle": "2023-01-27T00:04:24.482599Z",
     "shell.execute_reply": "2023-01-27T00:04:24.481684Z"
    },
    "papermill": {
     "duration": 0.019454,
     "end_time": "2023-01-27T00:04:24.484866",
     "exception": false,
     "start_time": "2023-01-27T00:04:24.465412",
     "status": "completed"
    },
    "tags": []
   },
   "outputs": [
    {
     "data": {
      "application/javascript": [
       "parent.postMessage({\"jupyterEvent\": \"custom.exercise_interaction\", \"data\": {\"outcomeType\": 1, \"valueTowardsCompletion\": 0.25, \"interactionType\": 1, \"questionType\": 1, \"questionId\": \"2_LookLang\", \"learnToolsVersion\": \"0.3.4\", \"failureMessage\": \"\", \"exceptionClass\": \"\", \"trace\": \"\"}}, \"*\")"
      ],
      "text/plain": [
       "<IPython.core.display.Javascript object>"
      ]
     },
     "metadata": {},
     "output_type": "display_data"
    },
    {
     "data": {
      "text/markdown": [
       "<span style=\"color:#33cc33\">Correct</span>"
      ],
      "text/plain": [
       "Correct"
      ]
     },
     "metadata": {},
     "output_type": "display_data"
    }
   ],
   "source": [
    "# Fill in the blank\n",
    "num_rows = 6\n",
    "\n",
    "# Check your answer\n",
    "q_2.check()"
   ]
  },
  {
   "cell_type": "code",
   "execution_count": 9,
   "id": "a254a5e6",
   "metadata": {
    "execution": {
     "iopub.execute_input": "2023-01-27T00:04:24.502253Z",
     "iopub.status.busy": "2023-01-27T00:04:24.501498Z",
     "iopub.status.idle": "2023-01-27T00:04:24.506137Z",
     "shell.execute_reply": "2023-01-27T00:04:24.505306Z"
    },
    "papermill": {
     "duration": 0.015982,
     "end_time": "2023-01-27T00:04:24.508394",
     "exception": false,
     "start_time": "2023-01-27T00:04:24.492412",
     "status": "completed"
    },
    "tags": []
   },
   "outputs": [],
   "source": [
    "# Lines below will give you a hint or solution code\n",
    "#q_2.hint()\n",
    "#q_2.solution()"
   ]
  },
  {
   "cell_type": "markdown",
   "id": "9eb819ed",
   "metadata": {
    "papermill": {
     "duration": 0.00727,
     "end_time": "2023-01-27T00:04:24.523311",
     "exception": false,
     "start_time": "2023-01-27T00:04:24.516041",
     "status": "completed"
    },
    "tags": []
   },
   "source": [
    "### 3) What's the most popular programming language?\n",
    "\n",
    "Write a query to leverage the information in the `languages` table to determine which programming languages appear in the most repositories.  The table returned by your query should have two columns:\n",
    "- `language_name` - the name of the programming language\n",
    "- `num_repos` - the number of repositories in the `languages` table that use the programming language\n",
    "\n",
    "Sort the table so that languages that appear in more repos are shown first."
   ]
  },
  {
   "cell_type": "code",
   "execution_count": 10,
   "id": "ce59db71",
   "metadata": {
    "execution": {
     "iopub.execute_input": "2023-01-27T00:04:24.540495Z",
     "iopub.status.busy": "2023-01-27T00:04:24.539797Z",
     "iopub.status.idle": "2023-01-27T00:04:25.748479Z",
     "shell.execute_reply": "2023-01-27T00:04:25.747273Z"
    },
    "papermill": {
     "duration": 1.219966,
     "end_time": "2023-01-27T00:04:25.750739",
     "exception": false,
     "start_time": "2023-01-27T00:04:24.530773",
     "status": "completed"
    },
    "tags": []
   },
   "outputs": [
    {
     "name": "stderr",
     "output_type": "stream",
     "text": [
      "/opt/conda/lib/python3.7/site-packages/google/cloud/bigquery/client.py:440: UserWarning: Cannot create BigQuery Storage client, the dependency google-cloud-bigquery-storage is not installed.\n",
      "  \"Cannot create BigQuery Storage client, the dependency \"\n"
     ]
    },
    {
     "data": {
      "text/html": [
       "<div>\n",
       "<style scoped>\n",
       "    .dataframe tbody tr th:only-of-type {\n",
       "        vertical-align: middle;\n",
       "    }\n",
       "\n",
       "    .dataframe tbody tr th {\n",
       "        vertical-align: top;\n",
       "    }\n",
       "\n",
       "    .dataframe thead th {\n",
       "        text-align: right;\n",
       "    }\n",
       "</style>\n",
       "<table border=\"1\" class=\"dataframe\">\n",
       "  <thead>\n",
       "    <tr style=\"text-align: right;\">\n",
       "      <th></th>\n",
       "      <th>language_name</th>\n",
       "      <th>num_repos</th>\n",
       "    </tr>\n",
       "  </thead>\n",
       "  <tbody>\n",
       "    <tr>\n",
       "      <th>0</th>\n",
       "      <td>JavaScript</td>\n",
       "      <td>1099966</td>\n",
       "    </tr>\n",
       "    <tr>\n",
       "      <th>1</th>\n",
       "      <td>CSS</td>\n",
       "      <td>807826</td>\n",
       "    </tr>\n",
       "    <tr>\n",
       "      <th>2</th>\n",
       "      <td>HTML</td>\n",
       "      <td>777433</td>\n",
       "    </tr>\n",
       "    <tr>\n",
       "      <th>3</th>\n",
       "      <td>Shell</td>\n",
       "      <td>640886</td>\n",
       "    </tr>\n",
       "    <tr>\n",
       "      <th>4</th>\n",
       "      <td>Python</td>\n",
       "      <td>550905</td>\n",
       "    </tr>\n",
       "  </tbody>\n",
       "</table>\n",
       "</div>"
      ],
      "text/plain": [
       "  language_name  num_repos\n",
       "0    JavaScript    1099966\n",
       "1           CSS     807826\n",
       "2          HTML     777433\n",
       "3         Shell     640886\n",
       "4        Python     550905"
      ]
     },
     "metadata": {},
     "output_type": "display_data"
    },
    {
     "data": {
      "application/javascript": [
       "parent.postMessage({\"jupyterEvent\": \"custom.exercise_interaction\", \"data\": {\"outcomeType\": 1, \"valueTowardsCompletion\": 0.25, \"interactionType\": 1, \"questionType\": 2, \"questionId\": \"3_PopLang\", \"learnToolsVersion\": \"0.3.4\", \"failureMessage\": \"\", \"exceptionClass\": \"\", \"trace\": \"\"}}, \"*\")"
      ],
      "text/plain": [
       "<IPython.core.display.Javascript object>"
      ]
     },
     "metadata": {},
     "output_type": "display_data"
    },
    {
     "data": {
      "text/markdown": [
       "<span style=\"color:#33cc33\">Correct</span>"
      ],
      "text/plain": [
       "Correct"
      ]
     },
     "metadata": {},
     "output_type": "display_data"
    }
   ],
   "source": [
    "# Write a query to find the answer\n",
    "pop_lang_query = \"\"\"\n",
    "                 SELECT l.name AS language_name, \n",
    "                        COUNT(*) AS num_repos\n",
    "                 FROM `bigquery-public-data.github_repos.languages`,\n",
    "                     UNNEST(language) AS l\n",
    "                 GROUP BY language_name\n",
    "                 ORDER BY num_repos DESC\n",
    "                 \"\"\"\n",
    "\n",
    "# Check your answer\n",
    "q_3.check()"
   ]
  },
  {
   "cell_type": "code",
   "execution_count": 11,
   "id": "f5fd3050",
   "metadata": {
    "execution": {
     "iopub.execute_input": "2023-01-27T00:04:25.768554Z",
     "iopub.status.busy": "2023-01-27T00:04:25.767849Z",
     "iopub.status.idle": "2023-01-27T00:04:25.772614Z",
     "shell.execute_reply": "2023-01-27T00:04:25.771765Z"
    },
    "papermill": {
     "duration": 0.016184,
     "end_time": "2023-01-27T00:04:25.774738",
     "exception": false,
     "start_time": "2023-01-27T00:04:25.758554",
     "status": "completed"
    },
    "tags": []
   },
   "outputs": [],
   "source": [
    "# Lines below will give you a hint or solution code\n",
    "#q_3.hint()\n",
    "#q_3.solution()"
   ]
  },
  {
   "cell_type": "markdown",
   "id": "afe6ad55",
   "metadata": {
    "papermill": {
     "duration": 0.007773,
     "end_time": "2023-01-27T00:04:25.790653",
     "exception": false,
     "start_time": "2023-01-27T00:04:25.782880",
     "status": "completed"
    },
    "tags": []
   },
   "source": [
    "### 4) Which languages are used in the repository with the most languages?\n",
    "\n",
    "For this question, you'll restrict your attention to the repository with name `'polyrabbit/polyglot'`.\n",
    "\n",
    "Write a query that returns a table with one row for each language in this repository.  The table should have two columns:\n",
    "- `name` - the name of the programming language\n",
    "- `bytes` - the total number of bytes of that programming language\n",
    "\n",
    "Sort the table by the `bytes` column so that programming languages that take up more space in the repo appear first."
   ]
  },
  {
   "cell_type": "code",
   "execution_count": 12,
   "id": "e7085d1b",
   "metadata": {
    "execution": {
     "iopub.execute_input": "2023-01-27T00:04:25.809275Z",
     "iopub.status.busy": "2023-01-27T00:04:25.808571Z",
     "iopub.status.idle": "2023-01-27T00:04:26.950655Z",
     "shell.execute_reply": "2023-01-27T00:04:26.949676Z"
    },
    "papermill": {
     "duration": 1.15422,
     "end_time": "2023-01-27T00:04:26.952859",
     "exception": false,
     "start_time": "2023-01-27T00:04:25.798639",
     "status": "completed"
    },
    "tags": []
   },
   "outputs": [
    {
     "name": "stderr",
     "output_type": "stream",
     "text": [
      "/opt/conda/lib/python3.7/site-packages/google/cloud/bigquery/client.py:440: UserWarning: Cannot create BigQuery Storage client, the dependency google-cloud-bigquery-storage is not installed.\n",
      "  \"Cannot create BigQuery Storage client, the dependency \"\n"
     ]
    },
    {
     "data": {
      "text/html": [
       "<div>\n",
       "<style scoped>\n",
       "    .dataframe tbody tr th:only-of-type {\n",
       "        vertical-align: middle;\n",
       "    }\n",
       "\n",
       "    .dataframe tbody tr th {\n",
       "        vertical-align: top;\n",
       "    }\n",
       "\n",
       "    .dataframe thead th {\n",
       "        text-align: right;\n",
       "    }\n",
       "</style>\n",
       "<table border=\"1\" class=\"dataframe\">\n",
       "  <thead>\n",
       "    <tr style=\"text-align: right;\">\n",
       "      <th></th>\n",
       "      <th>name</th>\n",
       "      <th>bytes</th>\n",
       "    </tr>\n",
       "  </thead>\n",
       "  <tbody>\n",
       "    <tr>\n",
       "      <th>0</th>\n",
       "      <td>Lasso</td>\n",
       "      <td>834726</td>\n",
       "    </tr>\n",
       "    <tr>\n",
       "      <th>1</th>\n",
       "      <td>C</td>\n",
       "      <td>819142</td>\n",
       "    </tr>\n",
       "    <tr>\n",
       "      <th>2</th>\n",
       "      <td>Mercury</td>\n",
       "      <td>709952</td>\n",
       "    </tr>\n",
       "    <tr>\n",
       "      <th>3</th>\n",
       "      <td>Objective-C</td>\n",
       "      <td>495392</td>\n",
       "    </tr>\n",
       "    <tr>\n",
       "      <th>4</th>\n",
       "      <td>Game Maker Language</td>\n",
       "      <td>298131</td>\n",
       "    </tr>\n",
       "  </tbody>\n",
       "</table>\n",
       "</div>"
      ],
      "text/plain": [
       "                  name   bytes\n",
       "0                Lasso  834726\n",
       "1                    C  819142\n",
       "2              Mercury  709952\n",
       "3          Objective-C  495392\n",
       "4  Game Maker Language  298131"
      ]
     },
     "metadata": {},
     "output_type": "display_data"
    },
    {
     "data": {
      "application/javascript": [
       "parent.postMessage({\"jupyterEvent\": \"custom.exercise_interaction\", \"data\": {\"outcomeType\": 1, \"valueTowardsCompletion\": 0.25, \"interactionType\": 1, \"questionType\": 2, \"questionId\": \"4_AllLangs\", \"learnToolsVersion\": \"0.3.4\", \"failureMessage\": \"\", \"exceptionClass\": \"\", \"trace\": \"\"}}, \"*\")"
      ],
      "text/plain": [
       "<IPython.core.display.Javascript object>"
      ]
     },
     "metadata": {},
     "output_type": "display_data"
    },
    {
     "data": {
      "text/markdown": [
       "<span style=\"color:#33cc33\">Correct</span>"
      ],
      "text/plain": [
       "Correct"
      ]
     },
     "metadata": {},
     "output_type": "display_data"
    }
   ],
   "source": [
    "# Your code here\n",
    "all_langs_query = \"\"\"\n",
    "                 SELECT l.name AS name, \n",
    "                        l.bytes AS bytes\n",
    "                 FROM `bigquery-public-data.github_repos.languages`,\n",
    "                     UNNEST(language) AS l\n",
    "                 WHERE repo_name = 'polyrabbit/polyglot'\n",
    "                 ORDER BY bytes DESC\n",
    "                  \"\"\"\n",
    "\n",
    "# Check your answer\n",
    "q_4.check()"
   ]
  },
  {
   "cell_type": "code",
   "execution_count": 13,
   "id": "6f8915f1",
   "metadata": {
    "execution": {
     "iopub.execute_input": "2023-01-27T00:04:26.971287Z",
     "iopub.status.busy": "2023-01-27T00:04:26.970854Z",
     "iopub.status.idle": "2023-01-27T00:04:26.974957Z",
     "shell.execute_reply": "2023-01-27T00:04:26.974175Z"
    },
    "papermill": {
     "duration": 0.015772,
     "end_time": "2023-01-27T00:04:26.977081",
     "exception": false,
     "start_time": "2023-01-27T00:04:26.961309",
     "status": "completed"
    },
    "tags": []
   },
   "outputs": [],
   "source": [
    "# Lines below will give you a hint or solution code\n",
    "#q_4.hint()\n",
    "#q_4.solution()"
   ]
  },
  {
   "cell_type": "markdown",
   "id": "80f36b0a",
   "metadata": {
    "papermill": {
     "duration": 0.008051,
     "end_time": "2023-01-27T00:04:26.993588",
     "exception": false,
     "start_time": "2023-01-27T00:04:26.985537",
     "status": "completed"
    },
    "tags": []
   },
   "source": [
    "# Keep going\n",
    "\n",
    "Learn how to make your queries **[more efficient](https://www.kaggle.com/alexisbcook/writing-efficient-queries)**."
   ]
  },
  {
   "cell_type": "markdown",
   "id": "6887f669",
   "metadata": {
    "papermill": {
     "duration": 0.00797,
     "end_time": "2023-01-27T00:04:27.009963",
     "exception": false,
     "start_time": "2023-01-27T00:04:27.001993",
     "status": "completed"
    },
    "tags": []
   },
   "source": [
    "---\n",
    "\n",
    "\n",
    "\n",
    "\n",
    "*Have questions or comments? Visit the [course discussion forum](https://www.kaggle.com/learn/advanced-sql/discussion) to chat with other learners.*"
   ]
  }
 ],
 "metadata": {
  "kernelspec": {
   "display_name": "Python 3",
   "language": "python",
   "name": "python3"
  },
  "language_info": {
   "codemirror_mode": {
    "name": "ipython",
    "version": 3
   },
   "file_extension": ".py",
   "mimetype": "text/x-python",
   "name": "python",
   "nbconvert_exporter": "python",
   "pygments_lexer": "ipython3",
   "version": "3.7.12"
  },
  "papermill": {
   "default_parameters": {},
   "duration": 18.270893,
   "end_time": "2023-01-27T00:04:27.639193",
   "environment_variables": {},
   "exception": null,
   "input_path": "__notebook__.ipynb",
   "output_path": "__notebook__.ipynb",
   "parameters": {},
   "start_time": "2023-01-27T00:04:09.368300",
   "version": "2.3.4"
  }
 },
 "nbformat": 4,
 "nbformat_minor": 5
}
