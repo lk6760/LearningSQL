{
 "cells": [
  {
   "cell_type": "markdown",
   "id": "8fd9a2fa",
   "metadata": {
    "papermill": {
     "duration": 0.006327,
     "end_time": "2023-01-19T19:56:44.022069",
     "exception": false,
     "start_time": "2023-01-19T19:56:44.015742",
     "status": "completed"
    },
    "tags": []
   },
   "source": [
    "**This notebook is an exercise in the [SQL](https://www.kaggle.com/learn/intro-to-sql) course.  You can reference the tutorial at [this link](https://www.kaggle.com/dansbecker/getting-started-with-sql-and-bigquery).**\n",
    "\n",
    "---\n"
   ]
  },
  {
   "cell_type": "markdown",
   "id": "b848d8d2",
   "metadata": {
    "papermill": {
     "duration": 0.004644,
     "end_time": "2023-01-19T19:56:44.031881",
     "exception": false,
     "start_time": "2023-01-19T19:56:44.027237",
     "status": "completed"
    },
    "tags": []
   },
   "source": [
    "# Introduction\n",
    "\n",
    "The first test of your new data exploration skills uses data describing crime in the city of Chicago.\n",
    "\n",
    "Before you get started, run the following cell. It sets up the automated feedback system to review your answers."
   ]
  },
  {
   "cell_type": "code",
   "execution_count": 1,
   "id": "8e1d89db",
   "metadata": {
    "execution": {
     "iopub.execute_input": "2023-01-19T19:56:44.043693Z",
     "iopub.status.busy": "2023-01-19T19:56:44.043250Z",
     "iopub.status.idle": "2023-01-19T19:56:45.327196Z",
     "shell.execute_reply": "2023-01-19T19:56:45.325693Z"
    },
    "papermill": {
     "duration": 1.293844,
     "end_time": "2023-01-19T19:56:45.330652",
     "exception": false,
     "start_time": "2023-01-19T19:56:44.036808",
     "status": "completed"
    },
    "tags": []
   },
   "outputs": [
    {
     "name": "stdout",
     "output_type": "stream",
     "text": [
      "Using Kaggle's public dataset BigQuery integration.\n",
      "Setup Complete\n"
     ]
    }
   ],
   "source": [
    "# Set up feedack system\n",
    "from learntools.core import binder\n",
    "binder.bind(globals())\n",
    "from learntools.sql.ex1 import *\n",
    "print(\"Setup Complete\")"
   ]
  },
  {
   "cell_type": "markdown",
   "id": "da10e33b",
   "metadata": {
    "papermill": {
     "duration": 0.005038,
     "end_time": "2023-01-19T19:56:45.342244",
     "exception": false,
     "start_time": "2023-01-19T19:56:45.337206",
     "status": "completed"
    },
    "tags": []
   },
   "source": [
    "Use the next code cell to fetch the dataset."
   ]
  },
  {
   "cell_type": "code",
   "execution_count": 2,
   "id": "51024a54",
   "metadata": {
    "execution": {
     "iopub.execute_input": "2023-01-19T19:56:45.355269Z",
     "iopub.status.busy": "2023-01-19T19:56:45.354549Z",
     "iopub.status.idle": "2023-01-19T19:56:45.831768Z",
     "shell.execute_reply": "2023-01-19T19:56:45.830488Z"
    },
    "papermill": {
     "duration": 0.486992,
     "end_time": "2023-01-19T19:56:45.834677",
     "exception": false,
     "start_time": "2023-01-19T19:56:45.347685",
     "status": "completed"
    },
    "tags": []
   },
   "outputs": [
    {
     "name": "stdout",
     "output_type": "stream",
     "text": [
      "Using Kaggle's public dataset BigQuery integration.\n"
     ]
    }
   ],
   "source": [
    "from google.cloud import bigquery\n",
    "\n",
    "# Create a \"Client\" object\n",
    "client = bigquery.Client()\n",
    "\n",
    "# Construct a reference to the \"chicago_crime\" dataset\n",
    "dataset_ref = client.dataset(\"chicago_crime\", project=\"bigquery-public-data\")\n",
    "\n",
    "# API request - fetch the dataset\n",
    "dataset = client.get_dataset(dataset_ref)"
   ]
  },
  {
   "cell_type": "markdown",
   "id": "58273d01",
   "metadata": {
    "papermill": {
     "duration": 0.004994,
     "end_time": "2023-01-19T19:56:45.845304",
     "exception": false,
     "start_time": "2023-01-19T19:56:45.840310",
     "status": "completed"
    },
    "tags": []
   },
   "source": [
    "# Exercises\n",
    "\n",
    "### 1) Count tables in the dataset\n",
    "\n",
    "How many tables are in the Chicago Crime dataset?"
   ]
  },
  {
   "cell_type": "code",
   "execution_count": 3,
   "id": "dd0fee59",
   "metadata": {
    "execution": {
     "iopub.execute_input": "2023-01-19T19:56:45.857406Z",
     "iopub.status.busy": "2023-01-19T19:56:45.857006Z",
     "iopub.status.idle": "2023-01-19T19:56:46.275288Z",
     "shell.execute_reply": "2023-01-19T19:56:46.274037Z"
    },
    "papermill": {
     "duration": 0.428011,
     "end_time": "2023-01-19T19:56:46.278505",
     "exception": false,
     "start_time": "2023-01-19T19:56:45.850494",
     "status": "completed"
    },
    "tags": []
   },
   "outputs": [
    {
     "name": "stdout",
     "output_type": "stream",
     "text": [
      "crime\n"
     ]
    }
   ],
   "source": [
    "# Write the code you need here to figure out the answer\n",
    "tables = list(client.list_tables(dataset))\n",
    "\n",
    "for table in tables:\n",
    "    print(table.table_id)"
   ]
  },
  {
   "cell_type": "code",
   "execution_count": 4,
   "id": "f7c04e27",
   "metadata": {
    "execution": {
     "iopub.execute_input": "2023-01-19T19:56:46.292176Z",
     "iopub.status.busy": "2023-01-19T19:56:46.291527Z",
     "iopub.status.idle": "2023-01-19T19:56:46.302504Z",
     "shell.execute_reply": "2023-01-19T19:56:46.301513Z"
    },
    "papermill": {
     "duration": 0.020037,
     "end_time": "2023-01-19T19:56:46.304515",
     "exception": false,
     "start_time": "2023-01-19T19:56:46.284478",
     "status": "completed"
    },
    "tags": []
   },
   "outputs": [
    {
     "data": {
      "application/javascript": [
       "parent.postMessage({\"jupyterEvent\": \"custom.exercise_interaction\", \"data\": {\"outcomeType\": 1, \"valueTowardsCompletion\": 0.3333333333333333, \"interactionType\": 1, \"questionType\": 1, \"questionId\": \"1_CountTables\", \"learnToolsVersion\": \"0.3.4\", \"failureMessage\": \"\", \"exceptionClass\": \"\", \"trace\": \"\"}}, \"*\")"
      ],
      "text/plain": [
       "<IPython.core.display.Javascript object>"
      ]
     },
     "metadata": {},
     "output_type": "display_data"
    },
    {
     "data": {
      "text/markdown": [
       "<span style=\"color:#33cc33\">Correct</span>"
      ],
      "text/plain": [
       "Correct"
      ]
     },
     "metadata": {},
     "output_type": "display_data"
    }
   ],
   "source": [
    "num_tables = 1  # Store the answer as num_tables and then run this cell\n",
    "\n",
    "# Check your answer\n",
    "q_1.check()"
   ]
  },
  {
   "cell_type": "markdown",
   "id": "67d4adae",
   "metadata": {
    "papermill": {
     "duration": 0.005381,
     "end_time": "2023-01-19T19:56:46.317232",
     "exception": false,
     "start_time": "2023-01-19T19:56:46.311851",
     "status": "completed"
    },
    "tags": []
   },
   "source": [
    "For a hint or the solution, uncomment the appropriate line below."
   ]
  },
  {
   "cell_type": "code",
   "execution_count": 5,
   "id": "dedb9f33",
   "metadata": {
    "execution": {
     "iopub.execute_input": "2023-01-19T19:56:46.331273Z",
     "iopub.status.busy": "2023-01-19T19:56:46.330288Z",
     "iopub.status.idle": "2023-01-19T19:56:46.334658Z",
     "shell.execute_reply": "2023-01-19T19:56:46.333658Z"
    },
    "papermill": {
     "duration": 0.013885,
     "end_time": "2023-01-19T19:56:46.336706",
     "exception": false,
     "start_time": "2023-01-19T19:56:46.322821",
     "status": "completed"
    },
    "tags": []
   },
   "outputs": [],
   "source": [
    "#q_1.hint()\n",
    "#q_1.solution()"
   ]
  },
  {
   "cell_type": "markdown",
   "id": "044d3202",
   "metadata": {
    "papermill": {
     "duration": 0.005829,
     "end_time": "2023-01-19T19:56:46.348460",
     "exception": false,
     "start_time": "2023-01-19T19:56:46.342631",
     "status": "completed"
    },
    "tags": []
   },
   "source": [
    "### 2) Explore the table schema\n",
    "\n",
    "How many columns in the `crime` table have `TIMESTAMP` data?"
   ]
  },
  {
   "cell_type": "code",
   "execution_count": 6,
   "id": "2ec5d053",
   "metadata": {
    "execution": {
     "iopub.execute_input": "2023-01-19T19:56:46.361716Z",
     "iopub.status.busy": "2023-01-19T19:56:46.361025Z",
     "iopub.status.idle": "2023-01-19T19:56:46.764168Z",
     "shell.execute_reply": "2023-01-19T19:56:46.763039Z"
    },
    "papermill": {
     "duration": 0.412576,
     "end_time": "2023-01-19T19:56:46.766727",
     "exception": false,
     "start_time": "2023-01-19T19:56:46.354151",
     "status": "completed"
    },
    "tags": []
   },
   "outputs": [
    {
     "data": {
      "text/plain": [
       "[SchemaField('unique_key', 'INTEGER', 'REQUIRED', None, (), None),\n",
       " SchemaField('case_number', 'STRING', 'NULLABLE', None, (), None),\n",
       " SchemaField('date', 'TIMESTAMP', 'NULLABLE', None, (), None),\n",
       " SchemaField('block', 'STRING', 'NULLABLE', None, (), None),\n",
       " SchemaField('iucr', 'STRING', 'NULLABLE', None, (), None),\n",
       " SchemaField('primary_type', 'STRING', 'NULLABLE', None, (), None),\n",
       " SchemaField('description', 'STRING', 'NULLABLE', None, (), None),\n",
       " SchemaField('location_description', 'STRING', 'NULLABLE', None, (), None),\n",
       " SchemaField('arrest', 'BOOLEAN', 'NULLABLE', None, (), None),\n",
       " SchemaField('domestic', 'BOOLEAN', 'NULLABLE', None, (), None),\n",
       " SchemaField('beat', 'INTEGER', 'NULLABLE', None, (), None),\n",
       " SchemaField('district', 'INTEGER', 'NULLABLE', None, (), None),\n",
       " SchemaField('ward', 'INTEGER', 'NULLABLE', None, (), None),\n",
       " SchemaField('community_area', 'INTEGER', 'NULLABLE', None, (), None),\n",
       " SchemaField('fbi_code', 'STRING', 'NULLABLE', None, (), None),\n",
       " SchemaField('x_coordinate', 'FLOAT', 'NULLABLE', None, (), None),\n",
       " SchemaField('y_coordinate', 'FLOAT', 'NULLABLE', None, (), None),\n",
       " SchemaField('year', 'INTEGER', 'NULLABLE', None, (), None),\n",
       " SchemaField('updated_on', 'TIMESTAMP', 'NULLABLE', None, (), None),\n",
       " SchemaField('latitude', 'FLOAT', 'NULLABLE', None, (), None),\n",
       " SchemaField('longitude', 'FLOAT', 'NULLABLE', None, (), None),\n",
       " SchemaField('location', 'STRING', 'NULLABLE', None, (), None)]"
      ]
     },
     "execution_count": 6,
     "metadata": {},
     "output_type": "execute_result"
    }
   ],
   "source": [
    "# Write the code to figure out the answer\n",
    "table_ref = dataset_ref.table(\"crime\")\n",
    "\n",
    "table = client.get_table(table_ref)\n",
    "\n",
    "table.schema"
   ]
  },
  {
   "cell_type": "code",
   "execution_count": 7,
   "id": "6583d8f1",
   "metadata": {
    "execution": {
     "iopub.execute_input": "2023-01-19T19:56:46.780396Z",
     "iopub.status.busy": "2023-01-19T19:56:46.779497Z",
     "iopub.status.idle": "2023-01-19T19:56:46.787382Z",
     "shell.execute_reply": "2023-01-19T19:56:46.786468Z"
    },
    "papermill": {
     "duration": 0.016912,
     "end_time": "2023-01-19T19:56:46.789516",
     "exception": false,
     "start_time": "2023-01-19T19:56:46.772604",
     "status": "completed"
    },
    "tags": []
   },
   "outputs": [
    {
     "data": {
      "application/javascript": [
       "parent.postMessage({\"jupyterEvent\": \"custom.exercise_interaction\", \"data\": {\"outcomeType\": 1, \"valueTowardsCompletion\": 0.3333333333333333, \"interactionType\": 1, \"questionType\": 1, \"questionId\": \"2_CountTimestampFields\", \"learnToolsVersion\": \"0.3.4\", \"failureMessage\": \"\", \"exceptionClass\": \"\", \"trace\": \"\"}}, \"*\")"
      ],
      "text/plain": [
       "<IPython.core.display.Javascript object>"
      ]
     },
     "metadata": {},
     "output_type": "display_data"
    },
    {
     "data": {
      "text/markdown": [
       "<span style=\"color:#33cc33\">Correct</span>"
      ],
      "text/plain": [
       "Correct"
      ]
     },
     "metadata": {},
     "output_type": "display_data"
    }
   ],
   "source": [
    "num_timestamp_fields = 2 # Put your answer here\n",
    "\n",
    "# Check your answer\n",
    "q_2.check()"
   ]
  },
  {
   "cell_type": "markdown",
   "id": "807df732",
   "metadata": {
    "papermill": {
     "duration": 0.00614,
     "end_time": "2023-01-19T19:56:46.801842",
     "exception": false,
     "start_time": "2023-01-19T19:56:46.795702",
     "status": "completed"
    },
    "tags": []
   },
   "source": [
    "For a hint or the solution, uncomment the appropriate line below."
   ]
  },
  {
   "cell_type": "code",
   "execution_count": 8,
   "id": "864a0fc4",
   "metadata": {
    "execution": {
     "iopub.execute_input": "2023-01-19T19:56:46.815562Z",
     "iopub.status.busy": "2023-01-19T19:56:46.814856Z",
     "iopub.status.idle": "2023-01-19T19:56:46.818459Z",
     "shell.execute_reply": "2023-01-19T19:56:46.817766Z"
    },
    "papermill": {
     "duration": 0.012658,
     "end_time": "2023-01-19T19:56:46.820362",
     "exception": false,
     "start_time": "2023-01-19T19:56:46.807704",
     "status": "completed"
    },
    "tags": []
   },
   "outputs": [],
   "source": [
    "#q_2.hint()\n",
    "#q_2.solution()"
   ]
  },
  {
   "cell_type": "markdown",
   "id": "45dbe2e1",
   "metadata": {
    "papermill": {
     "duration": 0.005818,
     "end_time": "2023-01-19T19:56:46.832442",
     "exception": false,
     "start_time": "2023-01-19T19:56:46.826624",
     "status": "completed"
    },
    "tags": []
   },
   "source": [
    "### 3) Create a crime map\n",
    "\n",
    "If you wanted to create a map with a dot at the location of each crime, what are the names of the two fields you likely need to pull out of the `crime` table to plot the crimes on a map?"
   ]
  },
  {
   "cell_type": "code",
   "execution_count": 9,
   "id": "80a67708",
   "metadata": {
    "execution": {
     "iopub.execute_input": "2023-01-19T19:56:46.846682Z",
     "iopub.status.busy": "2023-01-19T19:56:46.846300Z",
     "iopub.status.idle": "2023-01-19T19:56:47.461629Z",
     "shell.execute_reply": "2023-01-19T19:56:47.460790Z"
    },
    "papermill": {
     "duration": 0.625462,
     "end_time": "2023-01-19T19:56:47.463981",
     "exception": false,
     "start_time": "2023-01-19T19:56:46.838519",
     "status": "completed"
    },
    "tags": []
   },
   "outputs": [
    {
     "name": "stderr",
     "output_type": "stream",
     "text": [
      "/opt/conda/lib/python3.7/site-packages/ipykernel_launcher.py:2: UserWarning: Cannot use bqstorage_client if max_results is set, reverting to fetching data with the tabledata.list endpoint.\n",
      "  \n"
     ]
    },
    {
     "data": {
      "text/html": [
       "<div>\n",
       "<style scoped>\n",
       "    .dataframe tbody tr th:only-of-type {\n",
       "        vertical-align: middle;\n",
       "    }\n",
       "\n",
       "    .dataframe tbody tr th {\n",
       "        vertical-align: top;\n",
       "    }\n",
       "\n",
       "    .dataframe thead th {\n",
       "        text-align: right;\n",
       "    }\n",
       "</style>\n",
       "<table border=\"1\" class=\"dataframe\">\n",
       "  <thead>\n",
       "    <tr style=\"text-align: right;\">\n",
       "      <th></th>\n",
       "      <th>unique_key</th>\n",
       "      <th>case_number</th>\n",
       "      <th>date</th>\n",
       "      <th>block</th>\n",
       "      <th>iucr</th>\n",
       "      <th>primary_type</th>\n",
       "      <th>description</th>\n",
       "      <th>location_description</th>\n",
       "      <th>arrest</th>\n",
       "      <th>domestic</th>\n",
       "      <th>...</th>\n",
       "      <th>ward</th>\n",
       "      <th>community_area</th>\n",
       "      <th>fbi_code</th>\n",
       "      <th>x_coordinate</th>\n",
       "      <th>y_coordinate</th>\n",
       "      <th>year</th>\n",
       "      <th>updated_on</th>\n",
       "      <th>latitude</th>\n",
       "      <th>longitude</th>\n",
       "      <th>location</th>\n",
       "    </tr>\n",
       "  </thead>\n",
       "  <tbody>\n",
       "    <tr>\n",
       "      <th>0</th>\n",
       "      <td>27240</td>\n",
       "      <td>JF505696</td>\n",
       "      <td>2022-12-10 07:20:00+00:00</td>\n",
       "      <td>000XX W 105TH ST</td>\n",
       "      <td>0110</td>\n",
       "      <td>HOMICIDE</td>\n",
       "      <td>FIRST DEGREE MURDER</td>\n",
       "      <td>ALLEY</td>\n",
       "      <td>False</td>\n",
       "      <td>False</td>\n",
       "      <td>...</td>\n",
       "      <td>34</td>\n",
       "      <td>49</td>\n",
       "      <td>01A</td>\n",
       "      <td>1177939.0</td>\n",
       "      <td>1835349.0</td>\n",
       "      <td>2022</td>\n",
       "      <td>2022-12-17 03:49:39+00:00</td>\n",
       "      <td>41.703512</td>\n",
       "      <td>-87.624036</td>\n",
       "      <td>(41.70351191, -87.624036004)</td>\n",
       "    </tr>\n",
       "    <tr>\n",
       "      <th>1</th>\n",
       "      <td>4638</td>\n",
       "      <td>HP461457</td>\n",
       "      <td>2008-07-19 12:35:00+00:00</td>\n",
       "      <td>105XX S WENTWORTH AVE</td>\n",
       "      <td>0110</td>\n",
       "      <td>HOMICIDE</td>\n",
       "      <td>FIRST DEGREE MURDER</td>\n",
       "      <td>PORCH</td>\n",
       "      <td>False</td>\n",
       "      <td>False</td>\n",
       "      <td>...</td>\n",
       "      <td>34</td>\n",
       "      <td>49</td>\n",
       "      <td>01A</td>\n",
       "      <td>1176812.0</td>\n",
       "      <td>1835178.0</td>\n",
       "      <td>2008</td>\n",
       "      <td>2022-08-31 04:51:30+00:00</td>\n",
       "      <td>41.703068</td>\n",
       "      <td>-87.628168</td>\n",
       "      <td>(41.703068059, -87.628167951)</td>\n",
       "    </tr>\n",
       "    <tr>\n",
       "      <th>2</th>\n",
       "      <td>22823</td>\n",
       "      <td>HZ459434</td>\n",
       "      <td>2016-10-03 02:56:00+00:00</td>\n",
       "      <td>106XX S STATE ST</td>\n",
       "      <td>0110</td>\n",
       "      <td>HOMICIDE</td>\n",
       "      <td>FIRST DEGREE MURDER</td>\n",
       "      <td>STREET</td>\n",
       "      <td>False</td>\n",
       "      <td>False</td>\n",
       "      <td>...</td>\n",
       "      <td>34</td>\n",
       "      <td>49</td>\n",
       "      <td>01A</td>\n",
       "      <td>1178141.0</td>\n",
       "      <td>1834249.0</td>\n",
       "      <td>2016</td>\n",
       "      <td>2022-09-18 04:45:51+00:00</td>\n",
       "      <td>41.700489</td>\n",
       "      <td>-87.623330</td>\n",
       "      <td>(41.700488788, -87.623329533)</td>\n",
       "    </tr>\n",
       "  </tbody>\n",
       "</table>\n",
       "<p>3 rows × 22 columns</p>\n",
       "</div>"
      ],
      "text/plain": [
       "   unique_key case_number                      date                  block  \\\n",
       "0       27240    JF505696 2022-12-10 07:20:00+00:00       000XX W 105TH ST   \n",
       "1        4638    HP461457 2008-07-19 12:35:00+00:00  105XX S WENTWORTH AVE   \n",
       "2       22823    HZ459434 2016-10-03 02:56:00+00:00       106XX S STATE ST   \n",
       "\n",
       "   iucr primary_type          description location_description  arrest  \\\n",
       "0  0110     HOMICIDE  FIRST DEGREE MURDER                ALLEY   False   \n",
       "1  0110     HOMICIDE  FIRST DEGREE MURDER                PORCH   False   \n",
       "2  0110     HOMICIDE  FIRST DEGREE MURDER               STREET   False   \n",
       "\n",
       "   domestic  ...  ward  community_area  fbi_code  x_coordinate y_coordinate  \\\n",
       "0     False  ...    34              49       01A     1177939.0    1835349.0   \n",
       "1     False  ...    34              49       01A     1176812.0    1835178.0   \n",
       "2     False  ...    34              49       01A     1178141.0    1834249.0   \n",
       "\n",
       "   year                updated_on   latitude  longitude  \\\n",
       "0  2022 2022-12-17 03:49:39+00:00  41.703512 -87.624036   \n",
       "1  2008 2022-08-31 04:51:30+00:00  41.703068 -87.628168   \n",
       "2  2016 2022-09-18 04:45:51+00:00  41.700489 -87.623330   \n",
       "\n",
       "                        location  \n",
       "0   (41.70351191, -87.624036004)  \n",
       "1  (41.703068059, -87.628167951)  \n",
       "2  (41.700488788, -87.623329533)  \n",
       "\n",
       "[3 rows x 22 columns]"
      ]
     },
     "execution_count": 9,
     "metadata": {},
     "output_type": "execute_result"
    }
   ],
   "source": [
    "# Write the code here to explore the data so you can find the answer\n",
    "client.list_rows(table, max_results=3).to_dataframe()"
   ]
  },
  {
   "cell_type": "code",
   "execution_count": 10,
   "id": "29a6cc0b",
   "metadata": {
    "execution": {
     "iopub.execute_input": "2023-01-19T19:56:47.478563Z",
     "iopub.status.busy": "2023-01-19T19:56:47.478163Z",
     "iopub.status.idle": "2023-01-19T19:56:47.484996Z",
     "shell.execute_reply": "2023-01-19T19:56:47.484235Z"
    },
    "papermill": {
     "duration": 0.017884,
     "end_time": "2023-01-19T19:56:47.488281",
     "exception": false,
     "start_time": "2023-01-19T19:56:47.470397",
     "status": "completed"
    },
    "tags": []
   },
   "outputs": [
    {
     "data": {
      "application/javascript": [
       "parent.postMessage({\"jupyterEvent\": \"custom.exercise_interaction\", \"data\": {\"outcomeType\": 1, \"valueTowardsCompletion\": 0.3333333333333333, \"interactionType\": 1, \"questionType\": 2, \"questionId\": \"3_IdentifyFieldsForPlotting\", \"learnToolsVersion\": \"0.3.4\", \"failureMessage\": \"\", \"exceptionClass\": \"\", \"trace\": \"\"}}, \"*\")"
      ],
      "text/plain": [
       "<IPython.core.display.Javascript object>"
      ]
     },
     "metadata": {},
     "output_type": "display_data"
    },
    {
     "data": {
      "text/markdown": [
       "<span style=\"color:#33cc33\">Correct</span>"
      ],
      "text/plain": [
       "Correct"
      ]
     },
     "metadata": {},
     "output_type": "display_data"
    }
   ],
   "source": [
    "fields_for_plotting = [\"latitude\", \"longitude\"] # Put your answers here\n",
    "\n",
    "# Check your answer\n",
    "q_3.check()"
   ]
  },
  {
   "cell_type": "markdown",
   "id": "416502c6",
   "metadata": {
    "papermill": {
     "duration": 0.007963,
     "end_time": "2023-01-19T19:56:47.506091",
     "exception": false,
     "start_time": "2023-01-19T19:56:47.498128",
     "status": "completed"
    },
    "tags": []
   },
   "source": [
    "For a hint or the solution, uncomment the appropriate line below."
   ]
  },
  {
   "cell_type": "code",
   "execution_count": 11,
   "id": "9c3c45a8",
   "metadata": {
    "execution": {
     "iopub.execute_input": "2023-01-19T19:56:47.521759Z",
     "iopub.status.busy": "2023-01-19T19:56:47.520553Z",
     "iopub.status.idle": "2023-01-19T19:56:47.525499Z",
     "shell.execute_reply": "2023-01-19T19:56:47.524530Z"
    },
    "papermill": {
     "duration": 0.015191,
     "end_time": "2023-01-19T19:56:47.527800",
     "exception": false,
     "start_time": "2023-01-19T19:56:47.512609",
     "status": "completed"
    },
    "tags": []
   },
   "outputs": [],
   "source": [
    "#q_3.hint()\n",
    "#q_3.solution()"
   ]
  },
  {
   "cell_type": "markdown",
   "id": "20d5629e",
   "metadata": {
    "papermill": {
     "duration": 0.006706,
     "end_time": "2023-01-19T19:56:47.541518",
     "exception": false,
     "start_time": "2023-01-19T19:56:47.534812",
     "status": "completed"
    },
    "tags": []
   },
   "source": [
    "Thinking about the question above, there are a few columns that appear to have geographic data. Look at a few values (with the `list_rows()` command) to see if you can determine their relationship.  Two columns will still be hard to interpret. But it should be obvious how the `location` column relates to `latitude` and `longitude`."
   ]
  },
  {
   "cell_type": "code",
   "execution_count": 12,
   "id": "93c0b907",
   "metadata": {
    "execution": {
     "iopub.execute_input": "2023-01-19T19:56:47.557832Z",
     "iopub.status.busy": "2023-01-19T19:56:47.556872Z",
     "iopub.status.idle": "2023-01-19T19:56:48.022770Z",
     "shell.execute_reply": "2023-01-19T19:56:48.021852Z"
    },
    "papermill": {
     "duration": 0.4768,
     "end_time": "2023-01-19T19:56:48.025136",
     "exception": false,
     "start_time": "2023-01-19T19:56:47.548336",
     "status": "completed"
    },
    "tags": []
   },
   "outputs": [
    {
     "name": "stderr",
     "output_type": "stream",
     "text": [
      "/opt/conda/lib/python3.7/site-packages/ipykernel_launcher.py:2: UserWarning: Cannot use bqstorage_client if max_results is set, reverting to fetching data with the tabledata.list endpoint.\n",
      "  \n"
     ]
    },
    {
     "data": {
      "text/html": [
       "<div>\n",
       "<style scoped>\n",
       "    .dataframe tbody tr th:only-of-type {\n",
       "        vertical-align: middle;\n",
       "    }\n",
       "\n",
       "    .dataframe tbody tr th {\n",
       "        vertical-align: top;\n",
       "    }\n",
       "\n",
       "    .dataframe thead th {\n",
       "        text-align: right;\n",
       "    }\n",
       "</style>\n",
       "<table border=\"1\" class=\"dataframe\">\n",
       "  <thead>\n",
       "    <tr style=\"text-align: right;\">\n",
       "      <th></th>\n",
       "      <th>latitude</th>\n",
       "      <th>longitude</th>\n",
       "      <th>location</th>\n",
       "    </tr>\n",
       "  </thead>\n",
       "  <tbody>\n",
       "    <tr>\n",
       "      <th>0</th>\n",
       "      <td>41.703512</td>\n",
       "      <td>-87.624036</td>\n",
       "      <td>(41.70351191, -87.624036004)</td>\n",
       "    </tr>\n",
       "    <tr>\n",
       "      <th>1</th>\n",
       "      <td>41.703068</td>\n",
       "      <td>-87.628168</td>\n",
       "      <td>(41.703068059, -87.628167951)</td>\n",
       "    </tr>\n",
       "    <tr>\n",
       "      <th>2</th>\n",
       "      <td>41.700489</td>\n",
       "      <td>-87.623330</td>\n",
       "      <td>(41.700488788, -87.623329533)</td>\n",
       "    </tr>\n",
       "    <tr>\n",
       "      <th>3</th>\n",
       "      <td>41.704394</td>\n",
       "      <td>-87.626418</td>\n",
       "      <td>(41.704393792, -87.626417643)</td>\n",
       "    </tr>\n",
       "    <tr>\n",
       "      <th>4</th>\n",
       "      <td>41.704417</td>\n",
       "      <td>-87.624425</td>\n",
       "      <td>(41.704417195, -87.62442522)</td>\n",
       "    </tr>\n",
       "  </tbody>\n",
       "</table>\n",
       "</div>"
      ],
      "text/plain": [
       "    latitude  longitude                       location\n",
       "0  41.703512 -87.624036   (41.70351191, -87.624036004)\n",
       "1  41.703068 -87.628168  (41.703068059, -87.628167951)\n",
       "2  41.700489 -87.623330  (41.700488788, -87.623329533)\n",
       "3  41.704394 -87.626418  (41.704393792, -87.626417643)\n",
       "4  41.704417 -87.624425   (41.704417195, -87.62442522)"
      ]
     },
     "execution_count": 12,
     "metadata": {},
     "output_type": "execute_result"
    }
   ],
   "source": [
    "# Scratch space for your code\n",
    "client.list_rows(table, selected_fields=table.schema[-3:], max_results=5).to_dataframe()"
   ]
  },
  {
   "cell_type": "markdown",
   "id": "3475a5db",
   "metadata": {
    "papermill": {
     "duration": 0.010152,
     "end_time": "2023-01-19T19:56:48.043405",
     "exception": false,
     "start_time": "2023-01-19T19:56:48.033253",
     "status": "completed"
    },
    "tags": []
   },
   "source": [
    "# Keep going\n",
    "\n",
    "You've looked at the schema, but you haven't yet done anything exciting with the data itself. Things get more interesting when you get to the data, so keep going to **[write your first SQL query](https://www.kaggle.com/dansbecker/select-from-where).**"
   ]
  },
  {
   "cell_type": "markdown",
   "id": "1891632e",
   "metadata": {
    "papermill": {
     "duration": 0.010638,
     "end_time": "2023-01-19T19:56:48.063878",
     "exception": false,
     "start_time": "2023-01-19T19:56:48.053240",
     "status": "completed"
    },
    "tags": []
   },
   "source": [
    "---\n",
    "\n",
    "\n",
    "\n",
    "\n",
    "*Have questions or comments? Visit the [course discussion forum](https://www.kaggle.com/learn/intro-to-sql/discussion) to chat with other learners.*"
   ]
  }
 ],
 "metadata": {
  "kernelspec": {
   "display_name": "Python 3",
   "language": "python",
   "name": "python3"
  },
  "language_info": {
   "codemirror_mode": {
    "name": "ipython",
    "version": 3
   },
   "file_extension": ".py",
   "mimetype": "text/x-python",
   "name": "python",
   "nbconvert_exporter": "python",
   "pygments_lexer": "ipython3",
   "version": "3.7.12"
  },
  "papermill": {
   "default_parameters": {},
   "duration": 12.97231,
   "end_time": "2023-01-19T19:56:48.691779",
   "environment_variables": {},
   "exception": null,
   "input_path": "__notebook__.ipynb",
   "output_path": "__notebook__.ipynb",
   "parameters": {},
   "start_time": "2023-01-19T19:56:35.719469",
   "version": "2.3.4"
  }
 },
 "nbformat": 4,
 "nbformat_minor": 5
}
