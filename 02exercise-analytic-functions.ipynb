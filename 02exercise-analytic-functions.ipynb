{
 "cells": [
  {
   "cell_type": "markdown",
   "id": "43dc96d7",
   "metadata": {
    "papermill": {
     "duration": 0.005134,
     "end_time": "2023-01-25T17:07:09.473108",
     "exception": false,
     "start_time": "2023-01-25T17:07:09.467974",
     "status": "completed"
    },
    "tags": []
   },
   "source": [
    "**This notebook is an exercise in the [Advanced SQL](https://www.kaggle.com/learn/advanced-sql) course.  You can reference the tutorial at [this link](https://www.kaggle.com/alexisbcook/analytic-functions).**\n",
    "\n",
    "---\n"
   ]
  },
  {
   "cell_type": "markdown",
   "id": "b0dc3f5a",
   "metadata": {
    "papermill": {
     "duration": 0.003712,
     "end_time": "2023-01-25T17:07:09.481045",
     "exception": false,
     "start_time": "2023-01-25T17:07:09.477333",
     "status": "completed"
    },
    "tags": []
   },
   "source": [
    "# Introduction\n",
    "\n",
    "Here, you'll use window functions to answer questions about the [Chicago Taxi Trips](https://www.kaggle.com/chicago/chicago-taxi-trips-bq) dataset.\n",
    "\n",
    "Before you get started, run the code cell below to set everything up."
   ]
  },
  {
   "cell_type": "code",
   "execution_count": 1,
   "id": "ee8fb8c0",
   "metadata": {
    "execution": {
     "iopub.execute_input": "2023-01-25T17:07:09.491460Z",
     "iopub.status.busy": "2023-01-25T17:07:09.490976Z",
     "iopub.status.idle": "2023-01-25T17:07:43.158053Z",
     "shell.execute_reply": "2023-01-25T17:07:43.156751Z"
    },
    "papermill": {
     "duration": 33.679688,
     "end_time": "2023-01-25T17:07:43.164673",
     "exception": false,
     "start_time": "2023-01-25T17:07:09.484985",
     "status": "completed"
    },
    "tags": []
   },
   "outputs": [
    {
     "name": "stdout",
     "output_type": "stream",
     "text": [
      "Collecting git+https://github.com/Kaggle/learntools.git\r\n",
      "  Cloning https://github.com/Kaggle/learntools.git to /tmp/pip-req-build-7rhvj_c5\r\n",
      "  Running command git clone --filter=blob:none --quiet https://github.com/Kaggle/learntools.git /tmp/pip-req-build-7rhvj_c5\r\n",
      "  Resolved https://github.com/Kaggle/learntools.git to commit 50dffce293eade886869ec092ab1287b62566170\r\n",
      "  Preparing metadata (setup.py) ... \u001b[?25l-\b \bdone\r\n",
      "\u001b[?25hBuilding wheels for collected packages: learntools\r\n",
      "  Building wheel for learntools (setup.py) ... \u001b[?25l-\b \b\\\b \b|\b \bdone\r\n",
      "\u001b[?25h  Created wheel for learntools: filename=learntools-0.3.4-py3-none-any.whl size=267758 sha256=f06c4405ebd60fd77921c57e825d3108f4feaf3fca26befbc6a36b7ce6bb2237\r\n",
      "  Stored in directory: /tmp/pip-ephem-wheel-cache-l7l6bx76/wheels/dd/d7/6b/0fc758f52767fd281d6dceded6757c6cb5bb90ccd2dbb1de9f\r\n",
      "Successfully built learntools\r\n",
      "Installing collected packages: learntools\r\n",
      "Successfully installed learntools-0.3.4\r\n",
      "\u001b[33mWARNING: Running pip as the 'root' user can result in broken permissions and conflicting behaviour with the system package manager. It is recommended to use a virtual environment instead: https://pip.pypa.io/warnings/venv\u001b[0m\u001b[33m\r\n",
      "\u001b[0mUsing Kaggle's public dataset BigQuery integration.\n"
     ]
    },
    {
     "name": "stderr",
     "output_type": "stream",
     "text": [
      "/opt/conda/lib/python3.7/site-packages/google/cloud/bigquery/client.py:440: UserWarning: Cannot create BigQuery Storage client, the dependency google-cloud-bigquery-storage is not installed.\n",
      "  \"Cannot create BigQuery Storage client, the dependency \"\n"
     ]
    },
    {
     "name": "stdout",
     "output_type": "stream",
     "text": [
      "Setup Complete\n"
     ]
    }
   ],
   "source": [
    "# Get most recent checking code\n",
    "!pip install -U -t /kaggle/working/ git+https://github.com/Kaggle/learntools.git\n",
    "# Set up feedback system\n",
    "from learntools.core import binder\n",
    "binder.bind(globals())\n",
    "from learntools.sql_advanced.ex2 import *\n",
    "print(\"Setup Complete\")"
   ]
  },
  {
   "cell_type": "markdown",
   "id": "4150c0b9",
   "metadata": {
    "papermill": {
     "duration": 0.005018,
     "end_time": "2023-01-25T17:07:43.174790",
     "exception": false,
     "start_time": "2023-01-25T17:07:43.169772",
     "status": "completed"
    },
    "tags": []
   },
   "source": [
    "The following code cell fetches the `taxi_trips` table from the `chicago_taxi_trips` dataset. We also preview the first five rows of the table.  You'll use the table to answer the questions below."
   ]
  },
  {
   "cell_type": "code",
   "execution_count": 2,
   "id": "577b4ba5",
   "metadata": {
    "execution": {
     "iopub.execute_input": "2023-01-25T17:07:43.187483Z",
     "iopub.status.busy": "2023-01-25T17:07:43.186311Z",
     "iopub.status.idle": "2023-01-25T17:07:44.537591Z",
     "shell.execute_reply": "2023-01-25T17:07:44.536250Z"
    },
    "papermill": {
     "duration": 1.360632,
     "end_time": "2023-01-25T17:07:44.540197",
     "exception": false,
     "start_time": "2023-01-25T17:07:43.179565",
     "status": "completed"
    },
    "tags": []
   },
   "outputs": [
    {
     "name": "stdout",
     "output_type": "stream",
     "text": [
      "Using Kaggle's public dataset BigQuery integration.\n"
     ]
    },
    {
     "name": "stderr",
     "output_type": "stream",
     "text": [
      "/opt/conda/lib/python3.7/site-packages/ipykernel_launcher.py:19: UserWarning: Cannot use bqstorage_client if max_results is set, reverting to fetching data with the tabledata.list endpoint.\n"
     ]
    },
    {
     "data": {
      "text/html": [
       "<div>\n",
       "<style scoped>\n",
       "    .dataframe tbody tr th:only-of-type {\n",
       "        vertical-align: middle;\n",
       "    }\n",
       "\n",
       "    .dataframe tbody tr th {\n",
       "        vertical-align: top;\n",
       "    }\n",
       "\n",
       "    .dataframe thead th {\n",
       "        text-align: right;\n",
       "    }\n",
       "</style>\n",
       "<table border=\"1\" class=\"dataframe\">\n",
       "  <thead>\n",
       "    <tr style=\"text-align: right;\">\n",
       "      <th></th>\n",
       "      <th>unique_key</th>\n",
       "      <th>taxi_id</th>\n",
       "      <th>trip_start_timestamp</th>\n",
       "      <th>trip_end_timestamp</th>\n",
       "      <th>trip_seconds</th>\n",
       "      <th>trip_miles</th>\n",
       "      <th>pickup_census_tract</th>\n",
       "      <th>dropoff_census_tract</th>\n",
       "      <th>pickup_community_area</th>\n",
       "      <th>dropoff_community_area</th>\n",
       "      <th>...</th>\n",
       "      <th>extras</th>\n",
       "      <th>trip_total</th>\n",
       "      <th>payment_type</th>\n",
       "      <th>company</th>\n",
       "      <th>pickup_latitude</th>\n",
       "      <th>pickup_longitude</th>\n",
       "      <th>pickup_location</th>\n",
       "      <th>dropoff_latitude</th>\n",
       "      <th>dropoff_longitude</th>\n",
       "      <th>dropoff_location</th>\n",
       "    </tr>\n",
       "  </thead>\n",
       "  <tbody>\n",
       "    <tr>\n",
       "      <th>0</th>\n",
       "      <td>ff0b96c0cada768361b1c9341e11905254644afb</td>\n",
       "      <td>c7fd753040e0170e38049465089bca99c750f5ed8b3f6c...</td>\n",
       "      <td>2016-09-20 07:15:00+00:00</td>\n",
       "      <td>2016-09-20 07:30:00+00:00</td>\n",
       "      <td>1265</td>\n",
       "      <td>7.2</td>\n",
       "      <td>NaN</td>\n",
       "      <td>NaN</td>\n",
       "      <td>NaN</td>\n",
       "      <td>NaN</td>\n",
       "      <td>...</td>\n",
       "      <td>0.0</td>\n",
       "      <td>0.01</td>\n",
       "      <td>Cash</td>\n",
       "      <td>303 Taxi</td>\n",
       "      <td>NaN</td>\n",
       "      <td>NaN</td>\n",
       "      <td>None</td>\n",
       "      <td>NaN</td>\n",
       "      <td>NaN</td>\n",
       "      <td>None</td>\n",
       "    </tr>\n",
       "    <tr>\n",
       "      <th>1</th>\n",
       "      <td>cf43e111e3b01ec10187626e6f9887e0cd764eeb</td>\n",
       "      <td>c7fd753040e0170e38049465089bca99c750f5ed8b3f6c...</td>\n",
       "      <td>2016-09-20 07:45:00+00:00</td>\n",
       "      <td>2016-09-20 07:45:00+00:00</td>\n",
       "      <td>470</td>\n",
       "      <td>3.6</td>\n",
       "      <td>NaN</td>\n",
       "      <td>NaN</td>\n",
       "      <td>NaN</td>\n",
       "      <td>NaN</td>\n",
       "      <td>...</td>\n",
       "      <td>0.0</td>\n",
       "      <td>0.01</td>\n",
       "      <td>Cash</td>\n",
       "      <td>303 Taxi</td>\n",
       "      <td>NaN</td>\n",
       "      <td>NaN</td>\n",
       "      <td>None</td>\n",
       "      <td>NaN</td>\n",
       "      <td>NaN</td>\n",
       "      <td>None</td>\n",
       "    </tr>\n",
       "    <tr>\n",
       "      <th>2</th>\n",
       "      <td>3b7d25f05d3ff9e6866a56ce442d5a8c51c1832f</td>\n",
       "      <td>c7fd753040e0170e38049465089bca99c750f5ed8b3f6c...</td>\n",
       "      <td>2016-09-20 08:15:00+00:00</td>\n",
       "      <td>2016-09-20 09:00:00+00:00</td>\n",
       "      <td>2675</td>\n",
       "      <td>18.4</td>\n",
       "      <td>NaN</td>\n",
       "      <td>NaN</td>\n",
       "      <td>NaN</td>\n",
       "      <td>NaN</td>\n",
       "      <td>...</td>\n",
       "      <td>0.0</td>\n",
       "      <td>0.01</td>\n",
       "      <td>Cash</td>\n",
       "      <td>303 Taxi</td>\n",
       "      <td>NaN</td>\n",
       "      <td>NaN</td>\n",
       "      <td>None</td>\n",
       "      <td>NaN</td>\n",
       "      <td>NaN</td>\n",
       "      <td>None</td>\n",
       "    </tr>\n",
       "    <tr>\n",
       "      <th>3</th>\n",
       "      <td>cefb2ed97d5992d4b0f299bb6a9b48232cbf22ef</td>\n",
       "      <td>c7fd753040e0170e38049465089bca99c750f5ed8b3f6c...</td>\n",
       "      <td>2016-09-20 09:15:00+00:00</td>\n",
       "      <td>2016-09-20 09:30:00+00:00</td>\n",
       "      <td>780</td>\n",
       "      <td>5.6</td>\n",
       "      <td>NaN</td>\n",
       "      <td>NaN</td>\n",
       "      <td>NaN</td>\n",
       "      <td>NaN</td>\n",
       "      <td>...</td>\n",
       "      <td>0.0</td>\n",
       "      <td>0.01</td>\n",
       "      <td>Cash</td>\n",
       "      <td>303 Taxi</td>\n",
       "      <td>NaN</td>\n",
       "      <td>NaN</td>\n",
       "      <td>None</td>\n",
       "      <td>NaN</td>\n",
       "      <td>NaN</td>\n",
       "      <td>None</td>\n",
       "    </tr>\n",
       "    <tr>\n",
       "      <th>4</th>\n",
       "      <td>298996c35d36114811a04d86e8c7c374f45ea37f</td>\n",
       "      <td>c7fd753040e0170e38049465089bca99c750f5ed8b3f6c...</td>\n",
       "      <td>2016-09-20 10:00:00+00:00</td>\n",
       "      <td>2016-09-20 10:00:00+00:00</td>\n",
       "      <td>452</td>\n",
       "      <td>1.2</td>\n",
       "      <td>NaN</td>\n",
       "      <td>NaN</td>\n",
       "      <td>NaN</td>\n",
       "      <td>NaN</td>\n",
       "      <td>...</td>\n",
       "      <td>0.0</td>\n",
       "      <td>6.40</td>\n",
       "      <td>Cash</td>\n",
       "      <td>303 Taxi</td>\n",
       "      <td>NaN</td>\n",
       "      <td>NaN</td>\n",
       "      <td>None</td>\n",
       "      <td>NaN</td>\n",
       "      <td>NaN</td>\n",
       "      <td>None</td>\n",
       "    </tr>\n",
       "  </tbody>\n",
       "</table>\n",
       "<p>5 rows × 23 columns</p>\n",
       "</div>"
      ],
      "text/plain": [
       "                                 unique_key  \\\n",
       "0  ff0b96c0cada768361b1c9341e11905254644afb   \n",
       "1  cf43e111e3b01ec10187626e6f9887e0cd764eeb   \n",
       "2  3b7d25f05d3ff9e6866a56ce442d5a8c51c1832f   \n",
       "3  cefb2ed97d5992d4b0f299bb6a9b48232cbf22ef   \n",
       "4  298996c35d36114811a04d86e8c7c374f45ea37f   \n",
       "\n",
       "                                             taxi_id  \\\n",
       "0  c7fd753040e0170e38049465089bca99c750f5ed8b3f6c...   \n",
       "1  c7fd753040e0170e38049465089bca99c750f5ed8b3f6c...   \n",
       "2  c7fd753040e0170e38049465089bca99c750f5ed8b3f6c...   \n",
       "3  c7fd753040e0170e38049465089bca99c750f5ed8b3f6c...   \n",
       "4  c7fd753040e0170e38049465089bca99c750f5ed8b3f6c...   \n",
       "\n",
       "       trip_start_timestamp        trip_end_timestamp  trip_seconds  \\\n",
       "0 2016-09-20 07:15:00+00:00 2016-09-20 07:30:00+00:00          1265   \n",
       "1 2016-09-20 07:45:00+00:00 2016-09-20 07:45:00+00:00           470   \n",
       "2 2016-09-20 08:15:00+00:00 2016-09-20 09:00:00+00:00          2675   \n",
       "3 2016-09-20 09:15:00+00:00 2016-09-20 09:30:00+00:00           780   \n",
       "4 2016-09-20 10:00:00+00:00 2016-09-20 10:00:00+00:00           452   \n",
       "\n",
       "   trip_miles  pickup_census_tract  dropoff_census_tract  \\\n",
       "0         7.2                  NaN                   NaN   \n",
       "1         3.6                  NaN                   NaN   \n",
       "2        18.4                  NaN                   NaN   \n",
       "3         5.6                  NaN                   NaN   \n",
       "4         1.2                  NaN                   NaN   \n",
       "\n",
       "   pickup_community_area  dropoff_community_area  ...  extras  trip_total  \\\n",
       "0                    NaN                     NaN  ...     0.0        0.01   \n",
       "1                    NaN                     NaN  ...     0.0        0.01   \n",
       "2                    NaN                     NaN  ...     0.0        0.01   \n",
       "3                    NaN                     NaN  ...     0.0        0.01   \n",
       "4                    NaN                     NaN  ...     0.0        6.40   \n",
       "\n",
       "   payment_type   company  pickup_latitude pickup_longitude pickup_location  \\\n",
       "0          Cash  303 Taxi              NaN              NaN            None   \n",
       "1          Cash  303 Taxi              NaN              NaN            None   \n",
       "2          Cash  303 Taxi              NaN              NaN            None   \n",
       "3          Cash  303 Taxi              NaN              NaN            None   \n",
       "4          Cash  303 Taxi              NaN              NaN            None   \n",
       "\n",
       "   dropoff_latitude  dropoff_longitude dropoff_location  \n",
       "0               NaN                NaN             None  \n",
       "1               NaN                NaN             None  \n",
       "2               NaN                NaN             None  \n",
       "3               NaN                NaN             None  \n",
       "4               NaN                NaN             None  \n",
       "\n",
       "[5 rows x 23 columns]"
      ]
     },
     "execution_count": 2,
     "metadata": {},
     "output_type": "execute_result"
    }
   ],
   "source": [
    "from google.cloud import bigquery\n",
    "\n",
    "# Create a \"Client\" object\n",
    "client = bigquery.Client()\n",
    "\n",
    "# Construct a reference to the \"chicago_taxi_trips\" dataset\n",
    "dataset_ref = client.dataset(\"chicago_taxi_trips\", project=\"bigquery-public-data\")\n",
    "\n",
    "# API request - fetch the dataset\n",
    "dataset = client.get_dataset(dataset_ref)\n",
    "\n",
    "# Construct a reference to the \"taxi_trips\" table\n",
    "table_ref = dataset_ref.table(\"taxi_trips\")\n",
    "\n",
    "# API request - fetch the table\n",
    "table = client.get_table(table_ref)\n",
    "\n",
    "# Preview the first five lines of the table\n",
    "client.list_rows(table, max_results=5).to_dataframe()"
   ]
  },
  {
   "cell_type": "markdown",
   "id": "d3137f84",
   "metadata": {
    "papermill": {
     "duration": 0.005187,
     "end_time": "2023-01-25T17:07:44.551039",
     "exception": false,
     "start_time": "2023-01-25T17:07:44.545852",
     "status": "completed"
    },
    "tags": []
   },
   "source": [
    "# Exercises\n",
    "\n",
    "### 1) How can you predict the demand for taxis?\n",
    "\n",
    "Say you work for a taxi company, and you're interested in predicting the demand for taxis.  Towards this goal, you'd like to create a plot that shows a rolling average of the daily number of taxi trips.  Amend the (partial) query below to return a DataFrame with two columns:\n",
    "- `trip_date` - contains one entry for each date from January 1, 2016, to March 31, 2016.\n",
    "- `avg_num_trips` - shows the average number of daily trips, calculated over a window including the value for the current date, along with the values for the preceding 3 days and the following 3 days, as long as the days fit within the three-month time frame.  For instance, when calculating the value in this column for January 3, 2016, the window will include the number of trips for the preceding 2 days, the current date, and the following 3 days.\n",
    "\n",
    "This query is partially completed for you, and you need only write the part that calculates the `avg_num_trips` column.  Note that this query uses a common table expression (CTE); if you need to review how to use CTEs, you're encouraged to check out [this tutorial](https://www.kaggle.com/dansbecker/as-with) in the [Intro to SQL](https://www.kaggle.com/learn/intro-to-sql) course."
   ]
  },
  {
   "cell_type": "code",
   "execution_count": 3,
   "id": "838344b9",
   "metadata": {
    "execution": {
     "iopub.execute_input": "2023-01-25T17:07:44.563803Z",
     "iopub.status.busy": "2023-01-25T17:07:44.563369Z",
     "iopub.status.idle": "2023-01-25T17:07:45.937052Z",
     "shell.execute_reply": "2023-01-25T17:07:45.935124Z"
    },
    "papermill": {
     "duration": 1.38494,
     "end_time": "2023-01-25T17:07:45.941356",
     "exception": false,
     "start_time": "2023-01-25T17:07:44.556416",
     "status": "completed"
    },
    "tags": []
   },
   "outputs": [
    {
     "name": "stderr",
     "output_type": "stream",
     "text": [
      "/opt/conda/lib/python3.7/site-packages/google/cloud/bigquery/client.py:440: UserWarning: Cannot create BigQuery Storage client, the dependency google-cloud-bigquery-storage is not installed.\n",
      "  \"Cannot create BigQuery Storage client, the dependency \"\n"
     ]
    },
    {
     "data": {
      "text/html": [
       "<div>\n",
       "<style scoped>\n",
       "    .dataframe tbody tr th:only-of-type {\n",
       "        vertical-align: middle;\n",
       "    }\n",
       "\n",
       "    .dataframe tbody tr th {\n",
       "        vertical-align: top;\n",
       "    }\n",
       "\n",
       "    .dataframe thead th {\n",
       "        text-align: right;\n",
       "    }\n",
       "</style>\n",
       "<table border=\"1\" class=\"dataframe\">\n",
       "  <thead>\n",
       "    <tr style=\"text-align: right;\">\n",
       "      <th></th>\n",
       "      <th>trip_date</th>\n",
       "      <th>avg_num_trips</th>\n",
       "    </tr>\n",
       "  </thead>\n",
       "  <tbody>\n",
       "    <tr>\n",
       "      <th>0</th>\n",
       "      <td>2016-02-23</td>\n",
       "      <td>65.571429</td>\n",
       "    </tr>\n",
       "    <tr>\n",
       "      <th>1</th>\n",
       "      <td>2016-03-04</td>\n",
       "      <td>14.857143</td>\n",
       "    </tr>\n",
       "    <tr>\n",
       "      <th>2</th>\n",
       "      <td>2016-02-12</td>\n",
       "      <td>115.142857</td>\n",
       "    </tr>\n",
       "    <tr>\n",
       "      <th>3</th>\n",
       "      <td>2016-01-18</td>\n",
       "      <td>83.285714</td>\n",
       "    </tr>\n",
       "    <tr>\n",
       "      <th>4</th>\n",
       "      <td>2016-03-23</td>\n",
       "      <td>28.714286</td>\n",
       "    </tr>\n",
       "  </tbody>\n",
       "</table>\n",
       "</div>"
      ],
      "text/plain": [
       "    trip_date  avg_num_trips\n",
       "0  2016-02-23      65.571429\n",
       "1  2016-03-04      14.857143\n",
       "2  2016-02-12     115.142857\n",
       "3  2016-01-18      83.285714\n",
       "4  2016-03-23      28.714286"
      ]
     },
     "metadata": {},
     "output_type": "display_data"
    },
    {
     "data": {
      "application/javascript": [
       "parent.postMessage({\"jupyterEvent\": \"custom.exercise_interaction\", \"data\": {\"outcomeType\": 1, \"valueTowardsCompletion\": 0.3333333333333333, \"interactionType\": 1, \"questionType\": 2, \"questionId\": \"1_TaxiDemand\", \"learnToolsVersion\": \"0.3.4\", \"failureMessage\": \"\", \"exceptionClass\": \"\", \"trace\": \"\"}}, \"*\")"
      ],
      "text/plain": [
       "<IPython.core.display.Javascript object>"
      ]
     },
     "metadata": {},
     "output_type": "display_data"
    },
    {
     "data": {
      "text/markdown": [
       "<span style=\"color:#33cc33\">Correct</span>"
      ],
      "text/plain": [
       "Correct"
      ]
     },
     "metadata": {},
     "output_type": "display_data"
    }
   ],
   "source": [
    "# Fill in the blank below\n",
    "avg_num_trips_query = \"\"\"\n",
    "                      WITH trips_by_day AS\n",
    "                      (\n",
    "                      SELECT DATE(trip_start_timestamp) AS trip_date,\n",
    "                          COUNT(*) as num_trips\n",
    "                      FROM `bigquery-public-data.chicago_taxi_trips.taxi_trips`\n",
    "                      WHERE trip_start_timestamp > '2016-01-01' AND trip_start_timestamp < '2016-04-01'\n",
    "                      GROUP BY trip_date\n",
    "                      ORDER BY trip_date\n",
    "                      )\n",
    "                      SELECT trip_date,\n",
    "                          AVG(num_trips)\n",
    "                          OVER (\n",
    "                               ORDER BY trip_date\n",
    "                               ROWS BETWEEN 3 PRECEDING AND 3 FOLLOWING\n",
    "                               ) AS avg_num_trips\n",
    "                      FROM trips_by_day\n",
    "                      \"\"\"\n",
    "\n",
    "# Check your answer\n",
    "q_1.check()"
   ]
  },
  {
   "cell_type": "code",
   "execution_count": 4,
   "id": "beca7c8c",
   "metadata": {
    "execution": {
     "iopub.execute_input": "2023-01-25T17:07:45.957329Z",
     "iopub.status.busy": "2023-01-25T17:07:45.956916Z",
     "iopub.status.idle": "2023-01-25T17:07:45.964209Z",
     "shell.execute_reply": "2023-01-25T17:07:45.963031Z"
    },
    "papermill": {
     "duration": 0.018272,
     "end_time": "2023-01-25T17:07:45.966571",
     "exception": false,
     "start_time": "2023-01-25T17:07:45.948299",
     "status": "completed"
    },
    "tags": []
   },
   "outputs": [],
   "source": [
    "# Lines below will give you a hint or solution code\n",
    "#q_1.hint()\n",
    "#q_1.solution()"
   ]
  },
  {
   "cell_type": "markdown",
   "id": "49800b97",
   "metadata": {
    "papermill": {
     "duration": 0.009701,
     "end_time": "2023-01-25T17:07:45.982532",
     "exception": false,
     "start_time": "2023-01-25T17:07:45.972831",
     "status": "completed"
    },
    "tags": []
   },
   "source": [
    "### 2) Can you separate and order trips by community area?\n",
    "\n",
    "The query below returns a DataFrame with three columns from the table: `pickup_community_area`, `trip_start_timestamp`, and `trip_end_timestamp`.  \n",
    "\n",
    "Amend the query to return an additional column called `trip_number` which shows the order in which the trips were taken from their respective community areas.  So, the first trip of the day originating from community area 1 should receive a value of 1; the second trip of the day from the same area should receive a value of 2.  Likewise, the first trip of the day from community area 2 should receive a value of 1, and so on.\n",
    "\n",
    "Note that there are many numbering functions that can be used to solve this problem (depending on how you want to deal with trips that started at the same time from the same community area); to answer this question, please use the **RANK()** function."
   ]
  },
  {
   "cell_type": "code",
   "execution_count": 5,
   "id": "70cec8b0",
   "metadata": {
    "execution": {
     "iopub.execute_input": "2023-01-25T17:07:46.003450Z",
     "iopub.status.busy": "2023-01-25T17:07:46.002682Z",
     "iopub.status.idle": "2023-01-25T17:07:47.585948Z",
     "shell.execute_reply": "2023-01-25T17:07:47.585101Z"
    },
    "papermill": {
     "duration": 1.594505,
     "end_time": "2023-01-25T17:07:47.588252",
     "exception": false,
     "start_time": "2023-01-25T17:07:45.993747",
     "status": "completed"
    },
    "tags": []
   },
   "outputs": [
    {
     "name": "stderr",
     "output_type": "stream",
     "text": [
      "/opt/conda/lib/python3.7/site-packages/google/cloud/bigquery/client.py:440: UserWarning: Cannot create BigQuery Storage client, the dependency google-cloud-bigquery-storage is not installed.\n",
      "  \"Cannot create BigQuery Storage client, the dependency \"\n"
     ]
    },
    {
     "data": {
      "text/html": [
       "<div>\n",
       "<style scoped>\n",
       "    .dataframe tbody tr th:only-of-type {\n",
       "        vertical-align: middle;\n",
       "    }\n",
       "\n",
       "    .dataframe tbody tr th {\n",
       "        vertical-align: top;\n",
       "    }\n",
       "\n",
       "    .dataframe thead th {\n",
       "        text-align: right;\n",
       "    }\n",
       "</style>\n",
       "<table border=\"1\" class=\"dataframe\">\n",
       "  <thead>\n",
       "    <tr style=\"text-align: right;\">\n",
       "      <th></th>\n",
       "      <th>pickup_community_area</th>\n",
       "      <th>trip_start_timestamp</th>\n",
       "      <th>trip_end_timestamp</th>\n",
       "      <th>trip_number</th>\n",
       "    </tr>\n",
       "  </thead>\n",
       "  <tbody>\n",
       "    <tr>\n",
       "      <th>0</th>\n",
       "      <td>23</td>\n",
       "      <td>2013-10-03 20:00:00+00:00</td>\n",
       "      <td>2013-10-03 20:30:00+00:00</td>\n",
       "      <td>1</td>\n",
       "    </tr>\n",
       "    <tr>\n",
       "      <th>1</th>\n",
       "      <td>14</td>\n",
       "      <td>2013-10-03 05:15:00+00:00</td>\n",
       "      <td>2013-10-03 05:15:00+00:00</td>\n",
       "      <td>1</td>\n",
       "    </tr>\n",
       "    <tr>\n",
       "      <th>2</th>\n",
       "      <td>14</td>\n",
       "      <td>2013-10-03 08:00:00+00:00</td>\n",
       "      <td>2013-10-03 08:15:00+00:00</td>\n",
       "      <td>2</td>\n",
       "    </tr>\n",
       "    <tr>\n",
       "      <th>3</th>\n",
       "      <td>14</td>\n",
       "      <td>2013-10-03 09:45:00+00:00</td>\n",
       "      <td>2013-10-03 10:00:00+00:00</td>\n",
       "      <td>3</td>\n",
       "    </tr>\n",
       "    <tr>\n",
       "      <th>4</th>\n",
       "      <td>14</td>\n",
       "      <td>2013-10-03 16:45:00+00:00</td>\n",
       "      <td>2013-10-03 16:45:00+00:00</td>\n",
       "      <td>4</td>\n",
       "    </tr>\n",
       "  </tbody>\n",
       "</table>\n",
       "</div>"
      ],
      "text/plain": [
       "   pickup_community_area      trip_start_timestamp        trip_end_timestamp  \\\n",
       "0                     23 2013-10-03 20:00:00+00:00 2013-10-03 20:30:00+00:00   \n",
       "1                     14 2013-10-03 05:15:00+00:00 2013-10-03 05:15:00+00:00   \n",
       "2                     14 2013-10-03 08:00:00+00:00 2013-10-03 08:15:00+00:00   \n",
       "3                     14 2013-10-03 09:45:00+00:00 2013-10-03 10:00:00+00:00   \n",
       "4                     14 2013-10-03 16:45:00+00:00 2013-10-03 16:45:00+00:00   \n",
       "\n",
       "   trip_number  \n",
       "0            1  \n",
       "1            1  \n",
       "2            2  \n",
       "3            3  \n",
       "4            4  "
      ]
     },
     "metadata": {},
     "output_type": "display_data"
    },
    {
     "data": {
      "application/javascript": [
       "parent.postMessage({\"jupyterEvent\": \"custom.exercise_interaction\", \"data\": {\"outcomeType\": 1, \"valueTowardsCompletion\": 0.3333333333333333, \"interactionType\": 1, \"questionType\": 2, \"questionId\": \"2_CommunityArea\", \"learnToolsVersion\": \"0.3.4\", \"failureMessage\": \"\", \"exceptionClass\": \"\", \"trace\": \"\"}}, \"*\")"
      ],
      "text/plain": [
       "<IPython.core.display.Javascript object>"
      ]
     },
     "metadata": {},
     "output_type": "display_data"
    },
    {
     "data": {
      "text/markdown": [
       "<span style=\"color:#33cc33\">Correct</span>"
      ],
      "text/plain": [
       "Correct"
      ]
     },
     "metadata": {},
     "output_type": "display_data"
    }
   ],
   "source": [
    "# Amend the query below\n",
    "trip_number_query = \"\"\"\n",
    "                    SELECT pickup_community_area,\n",
    "                        trip_start_timestamp,\n",
    "                        trip_end_timestamp,\n",
    "                        RANK()\n",
    "                            OVER(\n",
    "                                PARTITION BY pickup_community_area\n",
    "                                ORDER BY trip_start_timestamp\n",
    "                            ) AS trip_number\n",
    "                    FROM `bigquery-public-data.chicago_taxi_trips.taxi_trips`\n",
    "                    WHERE DATE(trip_start_timestamp) = '2013-10-03'\n",
    "                    \"\"\"\n",
    "\n",
    "# Check your answer\n",
    "q_2.check()"
   ]
  },
  {
   "cell_type": "code",
   "execution_count": 6,
   "id": "4249f5f5",
   "metadata": {
    "execution": {
     "iopub.execute_input": "2023-01-25T17:07:47.604814Z",
     "iopub.status.busy": "2023-01-25T17:07:47.604081Z",
     "iopub.status.idle": "2023-01-25T17:07:47.609557Z",
     "shell.execute_reply": "2023-01-25T17:07:47.608363Z"
    },
    "papermill": {
     "duration": 0.016474,
     "end_time": "2023-01-25T17:07:47.611858",
     "exception": false,
     "start_time": "2023-01-25T17:07:47.595384",
     "status": "completed"
    },
    "tags": []
   },
   "outputs": [],
   "source": [
    "# Lines below will give you a hint or solution code\n",
    "#q_2.hint()\n",
    "#q_2.solution()"
   ]
  },
  {
   "cell_type": "markdown",
   "id": "0b1ada74",
   "metadata": {
    "papermill": {
     "duration": 0.006819,
     "end_time": "2023-01-25T17:07:47.625770",
     "exception": false,
     "start_time": "2023-01-25T17:07:47.618951",
     "status": "completed"
    },
    "tags": []
   },
   "source": [
    "### 3) How much time elapses between trips?\n",
    "\n",
    "The (partial) query in the code cell below shows, for each trip in the selected time frame, the corresponding `taxi_id`, `trip_start_timestamp`, and `trip_end_timestamp`. \n",
    "\n",
    "Your task in this exercise is to edit the query to include an additional `prev_break` column that shows the length of the break (in minutes) that the driver had before each trip started (this corresponds to the time between `trip_start_timestamp` of the current trip and `trip_end_timestamp` of the previous trip).  Partition the calculation by `taxi_id`, and order the results within each partition by `trip_start_timestamp`.\n",
    "\n",
    "Some sample results are shown below, where all rows correspond to the same driver (or `taxi_id`).  Take the time now to make sure that the values in the `prev_break` column make sense to you!\n",
    "\n",
    "![first_commands](https://i.imgur.com/zzHgmlx.png)\n",
    "\n",
    "Note that the first trip of the day for each driver should have a value of **NaN** (not a number) in the `prev_break` column."
   ]
  },
  {
   "cell_type": "code",
   "execution_count": 7,
   "id": "1d720961",
   "metadata": {
    "execution": {
     "iopub.execute_input": "2023-01-25T17:07:47.641408Z",
     "iopub.status.busy": "2023-01-25T17:07:47.640984Z",
     "iopub.status.idle": "2023-01-25T17:07:50.335559Z",
     "shell.execute_reply": "2023-01-25T17:07:50.334534Z"
    },
    "papermill": {
     "duration": 2.705669,
     "end_time": "2023-01-25T17:07:50.337894",
     "exception": false,
     "start_time": "2023-01-25T17:07:47.632225",
     "status": "completed"
    },
    "tags": []
   },
   "outputs": [
    {
     "name": "stderr",
     "output_type": "stream",
     "text": [
      "/opt/conda/lib/python3.7/site-packages/google/cloud/bigquery/client.py:440: UserWarning: Cannot create BigQuery Storage client, the dependency google-cloud-bigquery-storage is not installed.\n",
      "  \"Cannot create BigQuery Storage client, the dependency \"\n"
     ]
    },
    {
     "data": {
      "text/html": [
       "<div>\n",
       "<style scoped>\n",
       "    .dataframe tbody tr th:only-of-type {\n",
       "        vertical-align: middle;\n",
       "    }\n",
       "\n",
       "    .dataframe tbody tr th {\n",
       "        vertical-align: top;\n",
       "    }\n",
       "\n",
       "    .dataframe thead th {\n",
       "        text-align: right;\n",
       "    }\n",
       "</style>\n",
       "<table border=\"1\" class=\"dataframe\">\n",
       "  <thead>\n",
       "    <tr style=\"text-align: right;\">\n",
       "      <th></th>\n",
       "      <th>taxi_id</th>\n",
       "      <th>trip_start_timestamp</th>\n",
       "      <th>trip_end_timestamp</th>\n",
       "      <th>prev_break</th>\n",
       "    </tr>\n",
       "  </thead>\n",
       "  <tbody>\n",
       "    <tr>\n",
       "      <th>0</th>\n",
       "      <td>97ca0053c7078857a1faa9bfa7bae198efd41874bc267c...</td>\n",
       "      <td>2013-10-03 20:00:00+00:00</td>\n",
       "      <td>2013-10-03 20:30:00+00:00</td>\n",
       "      <td>240.0</td>\n",
       "    </tr>\n",
       "    <tr>\n",
       "      <th>1</th>\n",
       "      <td>0b9152b7405a9c87621a0ce10065993f133753a744b1d8...</td>\n",
       "      <td>2013-10-03 17:15:00+00:00</td>\n",
       "      <td>2013-10-03 17:30:00+00:00</td>\n",
       "      <td>225.0</td>\n",
       "    </tr>\n",
       "    <tr>\n",
       "      <th>2</th>\n",
       "      <td>6cd9b35df74e4b9138f2b63321643196d7172734feba57...</td>\n",
       "      <td>2013-10-03 19:30:00+00:00</td>\n",
       "      <td>2013-10-03 19:30:00+00:00</td>\n",
       "      <td>240.0</td>\n",
       "    </tr>\n",
       "    <tr>\n",
       "      <th>3</th>\n",
       "      <td>80c3f6046ec32a35fc256547fa1d2f5267f4f89d96f237...</td>\n",
       "      <td>2013-10-03 18:15:00+00:00</td>\n",
       "      <td>2013-10-03 19:00:00+00:00</td>\n",
       "      <td>405.0</td>\n",
       "    </tr>\n",
       "    <tr>\n",
       "      <th>4</th>\n",
       "      <td>e91f84e0249b79efb431cb242704ad241b56e3de580df1...</td>\n",
       "      <td>2013-10-03 12:30:00+00:00</td>\n",
       "      <td>2013-10-03 12:30:00+00:00</td>\n",
       "      <td>240.0</td>\n",
       "    </tr>\n",
       "  </tbody>\n",
       "</table>\n",
       "</div>"
      ],
      "text/plain": [
       "                                             taxi_id  \\\n",
       "0  97ca0053c7078857a1faa9bfa7bae198efd41874bc267c...   \n",
       "1  0b9152b7405a9c87621a0ce10065993f133753a744b1d8...   \n",
       "2  6cd9b35df74e4b9138f2b63321643196d7172734feba57...   \n",
       "3  80c3f6046ec32a35fc256547fa1d2f5267f4f89d96f237...   \n",
       "4  e91f84e0249b79efb431cb242704ad241b56e3de580df1...   \n",
       "\n",
       "       trip_start_timestamp        trip_end_timestamp  prev_break  \n",
       "0 2013-10-03 20:00:00+00:00 2013-10-03 20:30:00+00:00       240.0  \n",
       "1 2013-10-03 17:15:00+00:00 2013-10-03 17:30:00+00:00       225.0  \n",
       "2 2013-10-03 19:30:00+00:00 2013-10-03 19:30:00+00:00       240.0  \n",
       "3 2013-10-03 18:15:00+00:00 2013-10-03 19:00:00+00:00       405.0  \n",
       "4 2013-10-03 12:30:00+00:00 2013-10-03 12:30:00+00:00       240.0  "
      ]
     },
     "metadata": {},
     "output_type": "display_data"
    },
    {
     "data": {
      "application/javascript": [
       "parent.postMessage({\"jupyterEvent\": \"custom.exercise_interaction\", \"data\": {\"outcomeType\": 1, \"valueTowardsCompletion\": 0.3333333333333333, \"interactionType\": 1, \"questionType\": 2, \"questionId\": \"3_BreakTime\", \"learnToolsVersion\": \"0.3.4\", \"failureMessage\": \"\", \"exceptionClass\": \"\", \"trace\": \"\"}}, \"*\")"
      ],
      "text/plain": [
       "<IPython.core.display.Javascript object>"
      ]
     },
     "metadata": {},
     "output_type": "display_data"
    },
    {
     "data": {
      "text/markdown": [
       "<span style=\"color:#33cc33\">Correct</span>"
      ],
      "text/plain": [
       "Correct"
      ]
     },
     "metadata": {},
     "output_type": "display_data"
    }
   ],
   "source": [
    "# Fill in the blanks below\n",
    "break_time_query = \"\"\"\n",
    "                   SELECT taxi_id,\n",
    "                       trip_start_timestamp,\n",
    "                       trip_end_timestamp,\n",
    "                       TIMESTAMP_DIFF(\n",
    "                           trip_start_timestamp, \n",
    "                           LAG(trip_end_timestamp) \n",
    "                               OVER (\n",
    "                                    PARTITION BY taxi_id \n",
    "                                    ORDER BY trip_start_timestamp), \n",
    "                           MINUTE) as prev_break\n",
    "                   FROM `bigquery-public-data.chicago_taxi_trips.taxi_trips`\n",
    "                   WHERE DATE(trip_start_timestamp) = '2013-10-03' \n",
    "                   \"\"\"\n",
    "\n",
    "# Check your answer\n",
    "q_3.check()"
   ]
  },
  {
   "cell_type": "code",
   "execution_count": 8,
   "id": "d39300a7",
   "metadata": {
    "execution": {
     "iopub.execute_input": "2023-01-25T17:07:50.354263Z",
     "iopub.status.busy": "2023-01-25T17:07:50.353854Z",
     "iopub.status.idle": "2023-01-25T17:07:50.358666Z",
     "shell.execute_reply": "2023-01-25T17:07:50.357312Z"
    },
    "papermill": {
     "duration": 0.015865,
     "end_time": "2023-01-25T17:07:50.361137",
     "exception": false,
     "start_time": "2023-01-25T17:07:50.345272",
     "status": "completed"
    },
    "tags": []
   },
   "outputs": [],
   "source": [
    "# Lines below will give you a hint or solution code\n",
    "#q_3.hint()\n",
    "#q_3.solution()"
   ]
  },
  {
   "cell_type": "markdown",
   "id": "b73b04a4",
   "metadata": {
    "papermill": {
     "duration": 0.006847,
     "end_time": "2023-01-25T17:07:50.375903",
     "exception": false,
     "start_time": "2023-01-25T17:07:50.369056",
     "status": "completed"
    },
    "tags": []
   },
   "source": [
    "# Keep going\n",
    "\n",
    "Move on to learn how to query **[nested and repeated data](https://www.kaggle.com/alexisbcook/nested-and-repeated-data)**."
   ]
  },
  {
   "cell_type": "markdown",
   "id": "7f2a615c",
   "metadata": {
    "papermill": {
     "duration": 0.006631,
     "end_time": "2023-01-25T17:07:50.389891",
     "exception": false,
     "start_time": "2023-01-25T17:07:50.383260",
     "status": "completed"
    },
    "tags": []
   },
   "source": [
    "---\n",
    "\n",
    "\n",
    "\n",
    "\n",
    "*Have questions or comments? Visit the [course discussion forum](https://www.kaggle.com/learn/advanced-sql/discussion) to chat with other learners.*"
   ]
  }
 ],
 "metadata": {
  "kernelspec": {
   "display_name": "Python 3",
   "language": "python",
   "name": "python3"
  },
  "language_info": {
   "codemirror_mode": {
    "name": "ipython",
    "version": 3
   },
   "file_extension": ".py",
   "mimetype": "text/x-python",
   "name": "python",
   "nbconvert_exporter": "python",
   "pygments_lexer": "ipython3",
   "version": "3.7.12"
  },
  "papermill": {
   "default_parameters": {},
   "duration": 50.359537,
   "end_time": "2023-01-25T17:07:51.119682",
   "environment_variables": {},
   "exception": null,
   "input_path": "__notebook__.ipynb",
   "output_path": "__notebook__.ipynb",
   "parameters": {},
   "start_time": "2023-01-25T17:07:00.760145",
   "version": "2.3.4"
  }
 },
 "nbformat": 4,
 "nbformat_minor": 5
}
